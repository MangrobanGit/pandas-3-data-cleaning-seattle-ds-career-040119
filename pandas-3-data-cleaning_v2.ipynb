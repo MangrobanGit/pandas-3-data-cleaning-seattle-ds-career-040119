{
 "cells": [
  {
   "cell_type": "markdown",
   "metadata": {},
   "source": [
    "# Data Cleaning with Pandas"
   ]
  },
  {
   "cell_type": "code",
   "execution_count": 1,
   "metadata": {},
   "outputs": [],
   "source": [
    "import pandas as pd"
   ]
  },
  {
   "cell_type": "markdown",
   "metadata": {},
   "source": [
    "## Scenario\n",
    "\n",
    "As data scientists, we want to build a model to predict the sale price of a house in Seattle in 2019, based on its square footage. We know that the King County Department of Assessments has comprehensive data available on real property sales in the Seattle area. We need to prepare the data."
   ]
  },
  {
   "cell_type": "markdown",
   "metadata": {},
   "source": [
    "### First, get the data!\n",
    "\n",
    "When working on a project involving data that can fit on our computer, we store it in a `data` directory.\n",
    "\n",
    "```bash\n",
    "cd <project_directory>  # example: cd ~/flatiron_ds/pandas-3\n",
    "mkdir data\n",
    "cd data\n",
    "```\n",
    "\n",
    "Note that `<project_directory>` in angle brackets is a _placeholder_. You should type the path to the actual location on your computer where you're working on this project. Do not literally type `<project_directory>` and _do not type the angle brackets_. You can see an example in the _comment_ to the right of the command above.\n",
    "\n",
    "Now, we'll need to download the two data files that we need. We can do this at the command line:\n",
    "\n",
    "```bash\n",
    "wget https://aqua.kingcounty.gov/extranet/assessor/Real%20Property%20Sales.zip\n",
    "wget https://aqua.kingcounty.gov/extranet/assessor/Residential%20Building.zip\n",
    "```\n",
    "\n",
    "*Note:* If you do not have the `wget` command yet, you can install it: `brew install wget`.\n",
    "\n",
    "Note that `%20` in a URL translates into a space. Even though you will *never put spaces in filenames*, you may need to deal with spaces that _other_ people have used in filenames.\n",
    "\n",
    "There are two ways to handle the spaces in these filenames when referencing them at the command line.\n",
    "\n",
    "#### 1. You can _escape_ the spaces by putting a backslash (`\\`, remember _backslash is next to backspace_) before each one:\n",
    "\n",
    "`unzip Real\\ Property\\ Sales.zip`\n",
    "\n",
    "This is what happens if you tab-complete the filename in the terminal. Tab completion is your friend!\n",
    "\n",
    "#### 2. You can put the entire filename in quotes:\n",
    "\n",
    "`unzip \"Real Property Sales.zip\"`\n",
    "\n",
    "Try unzipping these files with the `unzip` command. The `unzip` command takes one argument, the name of the tile that you want to unzip.\n",
    "\n",
    "\n",
    "You can use tab completion (press the `tab` key after the first three letters) to fill in the names, including spaces. This will "
   ]
  },
  {
   "cell_type": "code",
   "execution_count": 2,
   "metadata": {},
   "outputs": [],
   "source": [
    "!cd data"
   ]
  },
  {
   "cell_type": "code",
   "execution_count": 3,
   "metadata": {
    "scrolled": true
   },
   "outputs": [
    {
     "name": "stderr",
     "output_type": "stream",
     "text": [
      "/anaconda3/envs/learn-env/lib/python3.6/site-packages/IPython/core/interactiveshell.py:2785: DtypeWarning: Columns (1,2) have mixed types. Specify dtype option on import or set low_memory=False.\n",
      "  interactivity=interactivity, compiler=compiler, result=result)\n"
     ]
    }
   ],
   "source": [
    "sales_df = pd.read_csv('data/EXTR_RPSale.csv')"
   ]
  },
  {
   "cell_type": "markdown",
   "metadata": {},
   "source": [
    "### Seeing pink? Warnings are useful!\n",
    "\n",
    "Note the warning above: `DtypeWarning: Columns (1, 2) have mixed types.` Because we start with an index of zero, the columns that we're being warned about are actually the _second_ and _third_ columns, `sales_df['Major']` and `sales_df['Minor']`."
   ]
  },
  {
   "cell_type": "code",
   "execution_count": 4,
   "metadata": {
    "scrolled": false
   },
   "outputs": [
    {
     "data": {
      "text/html": [
       "<div>\n",
       "<style scoped>\n",
       "    .dataframe tbody tr th:only-of-type {\n",
       "        vertical-align: middle;\n",
       "    }\n",
       "\n",
       "    .dataframe tbody tr th {\n",
       "        vertical-align: top;\n",
       "    }\n",
       "\n",
       "    .dataframe thead th {\n",
       "        text-align: right;\n",
       "    }\n",
       "</style>\n",
       "<table border=\"1\" class=\"dataframe\">\n",
       "  <thead>\n",
       "    <tr style=\"text-align: right;\">\n",
       "      <th></th>\n",
       "      <th>0</th>\n",
       "      <th>1</th>\n",
       "      <th>2</th>\n",
       "      <th>3</th>\n",
       "      <th>4</th>\n",
       "    </tr>\n",
       "  </thead>\n",
       "  <tbody>\n",
       "    <tr>\n",
       "      <th>ExciseTaxNbr</th>\n",
       "      <td>2687551</td>\n",
       "      <td>1235111</td>\n",
       "      <td>2704079</td>\n",
       "      <td>2584094</td>\n",
       "      <td>1056831</td>\n",
       "    </tr>\n",
       "    <tr>\n",
       "      <th>Major</th>\n",
       "      <td>138860</td>\n",
       "      <td>664885</td>\n",
       "      <td>423943</td>\n",
       "      <td>403700</td>\n",
       "      <td>951120</td>\n",
       "    </tr>\n",
       "    <tr>\n",
       "      <th>Minor</th>\n",
       "      <td>110</td>\n",
       "      <td>40</td>\n",
       "      <td>50</td>\n",
       "      <td>715</td>\n",
       "      <td>900</td>\n",
       "    </tr>\n",
       "    <tr>\n",
       "      <th>DocumentDate</th>\n",
       "      <td>08/21/2014</td>\n",
       "      <td>07/09/1991</td>\n",
       "      <td>10/11/2014</td>\n",
       "      <td>01/04/2013</td>\n",
       "      <td>04/20/1989</td>\n",
       "    </tr>\n",
       "    <tr>\n",
       "      <th>SalePrice</th>\n",
       "      <td>245000</td>\n",
       "      <td>0</td>\n",
       "      <td>0</td>\n",
       "      <td>0</td>\n",
       "      <td>85000</td>\n",
       "    </tr>\n",
       "    <tr>\n",
       "      <th>RecordingNbr</th>\n",
       "      <td>20140828001436</td>\n",
       "      <td>199203161090</td>\n",
       "      <td>20141205000558</td>\n",
       "      <td>20130110000910</td>\n",
       "      <td>198904260448</td>\n",
       "    </tr>\n",
       "    <tr>\n",
       "      <th>Volume</th>\n",
       "      <td></td>\n",
       "      <td>071</td>\n",
       "      <td></td>\n",
       "      <td></td>\n",
       "      <td>117</td>\n",
       "    </tr>\n",
       "    <tr>\n",
       "      <th>Page</th>\n",
       "      <td></td>\n",
       "      <td>001</td>\n",
       "      <td></td>\n",
       "      <td></td>\n",
       "      <td>053</td>\n",
       "    </tr>\n",
       "    <tr>\n",
       "      <th>PlatNbr</th>\n",
       "      <td></td>\n",
       "      <td>664885</td>\n",
       "      <td></td>\n",
       "      <td></td>\n",
       "      <td>951120</td>\n",
       "    </tr>\n",
       "    <tr>\n",
       "      <th>PlatType</th>\n",
       "      <td></td>\n",
       "      <td>C</td>\n",
       "      <td></td>\n",
       "      <td></td>\n",
       "      <td>P</td>\n",
       "    </tr>\n",
       "    <tr>\n",
       "      <th>PlatLot</th>\n",
       "      <td></td>\n",
       "      <td>B102</td>\n",
       "      <td></td>\n",
       "      <td></td>\n",
       "      <td>90</td>\n",
       "    </tr>\n",
       "    <tr>\n",
       "      <th>PlatBlock</th>\n",
       "      <td></td>\n",
       "      <td></td>\n",
       "      <td></td>\n",
       "      <td></td>\n",
       "      <td></td>\n",
       "    </tr>\n",
       "    <tr>\n",
       "      <th>SellerName</th>\n",
       "      <td>WENKLE NOEL SMITH -TRUSTEE                    ...</td>\n",
       "      <td>HERRMAN JEFFREY A+PAULINE A                   ...</td>\n",
       "      <td>STEPHENS ANTHONY P                            ...</td>\n",
       "      <td>PASTORS EDWIN                                 ...</td>\n",
       "      <td>STRATHY FLORENCE G                            ...</td>\n",
       "    </tr>\n",
       "    <tr>\n",
       "      <th>BuyerName</th>\n",
       "      <td>ALEXANDER APRIL                               ...</td>\n",
       "      <td>HERRMAN PAULINE A TTEE                        ...</td>\n",
       "      <td>STEPHENS ANTHONY P                            ...</td>\n",
       "      <td>PASTORS KHRISTINA                             ...</td>\n",
       "      <td>PORTER DONALD D+EVELYN V                      ...</td>\n",
       "    </tr>\n",
       "    <tr>\n",
       "      <th>PropertyType</th>\n",
       "      <td>3</td>\n",
       "      <td>3</td>\n",
       "      <td>3</td>\n",
       "      <td>3</td>\n",
       "      <td>3</td>\n",
       "    </tr>\n",
       "    <tr>\n",
       "      <th>PrincipalUse</th>\n",
       "      <td>6</td>\n",
       "      <td>0</td>\n",
       "      <td>6</td>\n",
       "      <td>6</td>\n",
       "      <td>0</td>\n",
       "    </tr>\n",
       "    <tr>\n",
       "      <th>SaleInstrument</th>\n",
       "      <td>3</td>\n",
       "      <td>26</td>\n",
       "      <td>15</td>\n",
       "      <td>15</td>\n",
       "      <td>2</td>\n",
       "    </tr>\n",
       "    <tr>\n",
       "      <th>AFForestLand</th>\n",
       "      <td>N</td>\n",
       "      <td>N</td>\n",
       "      <td>N</td>\n",
       "      <td>N</td>\n",
       "      <td>N</td>\n",
       "    </tr>\n",
       "    <tr>\n",
       "      <th>AFCurrentUseLand</th>\n",
       "      <td>N</td>\n",
       "      <td>N</td>\n",
       "      <td>N</td>\n",
       "      <td>N</td>\n",
       "      <td>N</td>\n",
       "    </tr>\n",
       "    <tr>\n",
       "      <th>AFNonProfitUse</th>\n",
       "      <td>N</td>\n",
       "      <td>N</td>\n",
       "      <td>N</td>\n",
       "      <td>N</td>\n",
       "      <td>N</td>\n",
       "    </tr>\n",
       "    <tr>\n",
       "      <th>AFHistoricProperty</th>\n",
       "      <td>N</td>\n",
       "      <td>N</td>\n",
       "      <td>N</td>\n",
       "      <td>N</td>\n",
       "      <td>N</td>\n",
       "    </tr>\n",
       "    <tr>\n",
       "      <th>SaleReason</th>\n",
       "      <td>1</td>\n",
       "      <td>18</td>\n",
       "      <td>18</td>\n",
       "      <td>11</td>\n",
       "      <td>1</td>\n",
       "    </tr>\n",
       "    <tr>\n",
       "      <th>PropertyClass</th>\n",
       "      <td>8</td>\n",
       "      <td>3</td>\n",
       "      <td>8</td>\n",
       "      <td>8</td>\n",
       "      <td>9</td>\n",
       "    </tr>\n",
       "    <tr>\n",
       "      <th>SaleWarning</th>\n",
       "      <td></td>\n",
       "      <td>11</td>\n",
       "      <td>18 31 51</td>\n",
       "      <td>18 31 38</td>\n",
       "      <td>49</td>\n",
       "    </tr>\n",
       "  </tbody>\n",
       "</table>\n",
       "</div>"
      ],
      "text/plain": [
       "                                                                    0  \\\n",
       "ExciseTaxNbr                                                  2687551   \n",
       "Major                                                          138860   \n",
       "Minor                                                             110   \n",
       "DocumentDate                                               08/21/2014   \n",
       "SalePrice                                                      245000   \n",
       "RecordingNbr                                           20140828001436   \n",
       "Volume                                                                  \n",
       "Page                                                                    \n",
       "PlatNbr                                                                 \n",
       "PlatType                                                                \n",
       "PlatLot                                                                 \n",
       "PlatBlock                                                               \n",
       "SellerName          WENKLE NOEL SMITH -TRUSTEE                    ...   \n",
       "BuyerName           ALEXANDER APRIL                               ...   \n",
       "PropertyType                                                        3   \n",
       "PrincipalUse                                                        6   \n",
       "SaleInstrument                                                      3   \n",
       "AFForestLand                                                        N   \n",
       "AFCurrentUseLand                                                    N   \n",
       "AFNonProfitUse                                                      N   \n",
       "AFHistoricProperty                                                  N   \n",
       "SaleReason                                                          1   \n",
       "PropertyClass                                                       8   \n",
       "SaleWarning                                                             \n",
       "\n",
       "                                                                    1  \\\n",
       "ExciseTaxNbr                                                  1235111   \n",
       "Major                                                          664885   \n",
       "Minor                                                              40   \n",
       "DocumentDate                                               07/09/1991   \n",
       "SalePrice                                                           0   \n",
       "RecordingNbr                                           199203161090     \n",
       "Volume                                                            071   \n",
       "Page                                                              001   \n",
       "PlatNbr                                                        664885   \n",
       "PlatType                                                            C   \n",
       "PlatLot                                                B102             \n",
       "PlatBlock                                                               \n",
       "SellerName          HERRMAN JEFFREY A+PAULINE A                   ...   \n",
       "BuyerName           HERRMAN PAULINE A TTEE                        ...   \n",
       "PropertyType                                                        3   \n",
       "PrincipalUse                                                        0   \n",
       "SaleInstrument                                                     26   \n",
       "AFForestLand                                                        N   \n",
       "AFCurrentUseLand                                                    N   \n",
       "AFNonProfitUse                                                      N   \n",
       "AFHistoricProperty                                                  N   \n",
       "SaleReason                                                         18   \n",
       "PropertyClass                                                       3   \n",
       "SaleWarning                                                        11   \n",
       "\n",
       "                                                                    2  \\\n",
       "ExciseTaxNbr                                                  2704079   \n",
       "Major                                                          423943   \n",
       "Minor                                                              50   \n",
       "DocumentDate                                               10/11/2014   \n",
       "SalePrice                                                           0   \n",
       "RecordingNbr                                           20141205000558   \n",
       "Volume                                                                  \n",
       "Page                                                                    \n",
       "PlatNbr                                                                 \n",
       "PlatType                                                                \n",
       "PlatLot                                                                 \n",
       "PlatBlock                                                               \n",
       "SellerName          STEPHENS ANTHONY P                            ...   \n",
       "BuyerName           STEPHENS ANTHONY P                            ...   \n",
       "PropertyType                                                        3   \n",
       "PrincipalUse                                                        6   \n",
       "SaleInstrument                                                     15   \n",
       "AFForestLand                                                        N   \n",
       "AFCurrentUseLand                                                    N   \n",
       "AFNonProfitUse                                                      N   \n",
       "AFHistoricProperty                                                  N   \n",
       "SaleReason                                                         18   \n",
       "PropertyClass                                                       8   \n",
       "SaleWarning                                                  18 31 51   \n",
       "\n",
       "                                                                    3  \\\n",
       "ExciseTaxNbr                                                  2584094   \n",
       "Major                                                          403700   \n",
       "Minor                                                             715   \n",
       "DocumentDate                                               01/04/2013   \n",
       "SalePrice                                                           0   \n",
       "RecordingNbr                                           20130110000910   \n",
       "Volume                                                                  \n",
       "Page                                                                    \n",
       "PlatNbr                                                                 \n",
       "PlatType                                                                \n",
       "PlatLot                                                                 \n",
       "PlatBlock                                                               \n",
       "SellerName          PASTORS EDWIN                                 ...   \n",
       "BuyerName           PASTORS KHRISTINA                             ...   \n",
       "PropertyType                                                        3   \n",
       "PrincipalUse                                                        6   \n",
       "SaleInstrument                                                     15   \n",
       "AFForestLand                                                        N   \n",
       "AFCurrentUseLand                                                    N   \n",
       "AFNonProfitUse                                                      N   \n",
       "AFHistoricProperty                                                  N   \n",
       "SaleReason                                                         11   \n",
       "PropertyClass                                                       8   \n",
       "SaleWarning                                                  18 31 38   \n",
       "\n",
       "                                                                    4  \n",
       "ExciseTaxNbr                                                  1056831  \n",
       "Major                                                          951120  \n",
       "Minor                                                             900  \n",
       "DocumentDate                                               04/20/1989  \n",
       "SalePrice                                                       85000  \n",
       "RecordingNbr                                           198904260448    \n",
       "Volume                                                            117  \n",
       "Page                                                              053  \n",
       "PlatNbr                                                        951120  \n",
       "PlatType                                                            P  \n",
       "PlatLot                                                90              \n",
       "PlatBlock                                                              \n",
       "SellerName          STRATHY FLORENCE G                            ...  \n",
       "BuyerName           PORTER DONALD D+EVELYN V                      ...  \n",
       "PropertyType                                                        3  \n",
       "PrincipalUse                                                        0  \n",
       "SaleInstrument                                                      2  \n",
       "AFForestLand                                                        N  \n",
       "AFCurrentUseLand                                                    N  \n",
       "AFNonProfitUse                                                      N  \n",
       "AFHistoricProperty                                                  N  \n",
       "SaleReason                                                          1  \n",
       "PropertyClass                                                       9  \n",
       "SaleWarning                                                        49  "
      ]
     },
     "execution_count": 4,
     "metadata": {},
     "output_type": "execute_result"
    }
   ],
   "source": [
    "sales_df.head().T"
   ]
  },
  {
   "cell_type": "markdown",
   "metadata": {},
   "source": [
    "### Data overload?\n",
    "\n",
    "That's a lot of columns. We're only interested in identifying the date, sale price, and square footage of each specific property. What can we do?"
   ]
  },
  {
   "cell_type": "code",
   "execution_count": 5,
   "metadata": {},
   "outputs": [],
   "source": [
    "sales_df = sales_df[['Major', 'Minor', 'DocumentDate', 'SalePrice']]"
   ]
  },
  {
   "cell_type": "code",
   "execution_count": 6,
   "metadata": {},
   "outputs": [
    {
     "name": "stdout",
     "output_type": "stream",
     "text": [
      "<class 'pandas.core.frame.DataFrame'>\n",
      "RangeIndex: 2014336 entries, 0 to 2014335\n",
      "Data columns (total 4 columns):\n",
      "Major           object\n",
      "Minor           object\n",
      "DocumentDate    object\n",
      "SalePrice       int64\n",
      "dtypes: int64(1), object(3)\n",
      "memory usage: 61.5+ MB\n"
     ]
    }
   ],
   "source": [
    "sales_df.info()"
   ]
  },
  {
   "cell_type": "code",
   "execution_count": 7,
   "metadata": {
    "scrolled": true
   },
   "outputs": [
    {
     "name": "stderr",
     "output_type": "stream",
     "text": [
      "/anaconda3/envs/learn-env/lib/python3.6/site-packages/IPython/core/interactiveshell.py:2785: DtypeWarning: Columns (11) have mixed types. Specify dtype option on import or set low_memory=False.\n",
      "  interactivity=interactivity, compiler=compiler, result=result)\n"
     ]
    }
   ],
   "source": [
    "bldg_df = pd.read_csv('data/Residential Building.zip')"
   ]
  },
  {
   "cell_type": "markdown",
   "metadata": {},
   "source": [
    "### Another warning! Which column has index 11?"
   ]
  },
  {
   "cell_type": "code",
   "execution_count": 8,
   "metadata": {},
   "outputs": [
    {
     "data": {
      "text/plain": [
       "'ZipCode'"
      ]
     },
     "execution_count": 8,
     "metadata": {},
     "output_type": "execute_result"
    }
   ],
   "source": [
    "bldg_df.columns[11]"
   ]
  },
  {
   "cell_type": "markdown",
   "metadata": {},
   "source": [
    "`ZipCode` seems like a potentially useful column. We'll need it to determine which house sales took place in Seattle."
   ]
  },
  {
   "cell_type": "code",
   "execution_count": 9,
   "metadata": {
    "scrolled": true
   },
   "outputs": [
    {
     "data": {
      "text/html": [
       "<div>\n",
       "<style scoped>\n",
       "    .dataframe tbody tr th:only-of-type {\n",
       "        vertical-align: middle;\n",
       "    }\n",
       "\n",
       "    .dataframe tbody tr th {\n",
       "        vertical-align: top;\n",
       "    }\n",
       "\n",
       "    .dataframe thead th {\n",
       "        text-align: right;\n",
       "    }\n",
       "</style>\n",
       "<table border=\"1\" class=\"dataframe\">\n",
       "  <thead>\n",
       "    <tr style=\"text-align: right;\">\n",
       "      <th></th>\n",
       "      <th>0</th>\n",
       "      <th>1</th>\n",
       "      <th>2</th>\n",
       "      <th>3</th>\n",
       "      <th>4</th>\n",
       "    </tr>\n",
       "  </thead>\n",
       "  <tbody>\n",
       "    <tr>\n",
       "      <th>Major</th>\n",
       "      <td>4300</td>\n",
       "      <td>4610</td>\n",
       "      <td>4610</td>\n",
       "      <td>4610</td>\n",
       "      <td>4900</td>\n",
       "    </tr>\n",
       "    <tr>\n",
       "      <th>Minor</th>\n",
       "      <td>167</td>\n",
       "      <td>399</td>\n",
       "      <td>503</td>\n",
       "      <td>505</td>\n",
       "      <td>56</td>\n",
       "    </tr>\n",
       "    <tr>\n",
       "      <th>BldgNbr</th>\n",
       "      <td>1</td>\n",
       "      <td>1</td>\n",
       "      <td>1</td>\n",
       "      <td>1</td>\n",
       "      <td>1</td>\n",
       "    </tr>\n",
       "    <tr>\n",
       "      <th>NbrLivingUnits</th>\n",
       "      <td>1</td>\n",
       "      <td>1</td>\n",
       "      <td>1</td>\n",
       "      <td>1</td>\n",
       "      <td>1</td>\n",
       "    </tr>\n",
       "    <tr>\n",
       "      <th>Address</th>\n",
       "      <td>15223   40TH AVE S  98188</td>\n",
       "      <td>4431   FERNCROFT RD   98040</td>\n",
       "      <td>4516   FERNCROFT RD   98040</td>\n",
       "      <td>4538   FERNCROFT RD   98040</td>\n",
       "      <td>3015  SW 105TH ST   98146</td>\n",
       "    </tr>\n",
       "    <tr>\n",
       "      <th>BuildingNumber</th>\n",
       "      <td>15223</td>\n",
       "      <td>4431</td>\n",
       "      <td>4516</td>\n",
       "      <td>4538</td>\n",
       "      <td>3015</td>\n",
       "    </tr>\n",
       "    <tr>\n",
       "      <th>Fraction</th>\n",
       "      <td></td>\n",
       "      <td></td>\n",
       "      <td></td>\n",
       "      <td></td>\n",
       "      <td></td>\n",
       "    </tr>\n",
       "    <tr>\n",
       "      <th>DirectionPrefix</th>\n",
       "      <td></td>\n",
       "      <td></td>\n",
       "      <td></td>\n",
       "      <td></td>\n",
       "      <td>SW</td>\n",
       "    </tr>\n",
       "    <tr>\n",
       "      <th>StreetName</th>\n",
       "      <td>40TH</td>\n",
       "      <td>FERNCROFT</td>\n",
       "      <td>FERNCROFT</td>\n",
       "      <td>FERNCROFT</td>\n",
       "      <td>105TH</td>\n",
       "    </tr>\n",
       "    <tr>\n",
       "      <th>StreetType</th>\n",
       "      <td>AVE</td>\n",
       "      <td>RD</td>\n",
       "      <td>RD</td>\n",
       "      <td>RD</td>\n",
       "      <td>ST</td>\n",
       "    </tr>\n",
       "    <tr>\n",
       "      <th>DirectionSuffix</th>\n",
       "      <td>S</td>\n",
       "      <td></td>\n",
       "      <td></td>\n",
       "      <td></td>\n",
       "      <td></td>\n",
       "    </tr>\n",
       "    <tr>\n",
       "      <th>ZipCode</th>\n",
       "      <td>98188</td>\n",
       "      <td>98040</td>\n",
       "      <td>98040</td>\n",
       "      <td>98040</td>\n",
       "      <td>98146</td>\n",
       "    </tr>\n",
       "    <tr>\n",
       "      <th>Stories</th>\n",
       "      <td>1</td>\n",
       "      <td>2</td>\n",
       "      <td>2</td>\n",
       "      <td>2</td>\n",
       "      <td>1</td>\n",
       "    </tr>\n",
       "    <tr>\n",
       "      <th>BldgGrade</th>\n",
       "      <td>6</td>\n",
       "      <td>9</td>\n",
       "      <td>9</td>\n",
       "      <td>11</td>\n",
       "      <td>7</td>\n",
       "    </tr>\n",
       "    <tr>\n",
       "      <th>BldgGradeVar</th>\n",
       "      <td>0</td>\n",
       "      <td>0</td>\n",
       "      <td>0</td>\n",
       "      <td>0</td>\n",
       "      <td>0</td>\n",
       "    </tr>\n",
       "    <tr>\n",
       "      <th>SqFt1stFloor</th>\n",
       "      <td>990</td>\n",
       "      <td>980</td>\n",
       "      <td>1916</td>\n",
       "      <td>2250</td>\n",
       "      <td>1040</td>\n",
       "    </tr>\n",
       "    <tr>\n",
       "      <th>SqFtHalfFloor</th>\n",
       "      <td>0</td>\n",
       "      <td>0</td>\n",
       "      <td>0</td>\n",
       "      <td>0</td>\n",
       "      <td>0</td>\n",
       "    </tr>\n",
       "    <tr>\n",
       "      <th>SqFt2ndFloor</th>\n",
       "      <td>0</td>\n",
       "      <td>1140</td>\n",
       "      <td>1473</td>\n",
       "      <td>1850</td>\n",
       "      <td>0</td>\n",
       "    </tr>\n",
       "    <tr>\n",
       "      <th>SqFtUpperFloor</th>\n",
       "      <td>0</td>\n",
       "      <td>0</td>\n",
       "      <td>0</td>\n",
       "      <td>0</td>\n",
       "      <td>0</td>\n",
       "    </tr>\n",
       "    <tr>\n",
       "      <th>SqFtUnfinFull</th>\n",
       "      <td>0</td>\n",
       "      <td>0</td>\n",
       "      <td>0</td>\n",
       "      <td>0</td>\n",
       "      <td>0</td>\n",
       "    </tr>\n",
       "    <tr>\n",
       "      <th>SqFtUnfinHalf</th>\n",
       "      <td>0</td>\n",
       "      <td>0</td>\n",
       "      <td>0</td>\n",
       "      <td>0</td>\n",
       "      <td>0</td>\n",
       "    </tr>\n",
       "    <tr>\n",
       "      <th>SqFtTotLiving</th>\n",
       "      <td>990</td>\n",
       "      <td>2950</td>\n",
       "      <td>3389</td>\n",
       "      <td>4100</td>\n",
       "      <td>1570</td>\n",
       "    </tr>\n",
       "    <tr>\n",
       "      <th>SqFtTotBasement</th>\n",
       "      <td>990</td>\n",
       "      <td>940</td>\n",
       "      <td>0</td>\n",
       "      <td>0</td>\n",
       "      <td>1040</td>\n",
       "    </tr>\n",
       "    <tr>\n",
       "      <th>SqFtFinBasement</th>\n",
       "      <td>0</td>\n",
       "      <td>830</td>\n",
       "      <td>0</td>\n",
       "      <td>0</td>\n",
       "      <td>530</td>\n",
       "    </tr>\n",
       "    <tr>\n",
       "      <th>FinBasementGrade</th>\n",
       "      <td>0</td>\n",
       "      <td>9</td>\n",
       "      <td>0</td>\n",
       "      <td>0</td>\n",
       "      <td>7</td>\n",
       "    </tr>\n",
       "    <tr>\n",
       "      <th>SqFtGarageBasement</th>\n",
       "      <td>0</td>\n",
       "      <td>0</td>\n",
       "      <td>0</td>\n",
       "      <td>0</td>\n",
       "      <td>430</td>\n",
       "    </tr>\n",
       "    <tr>\n",
       "      <th>SqFtGarageAttached</th>\n",
       "      <td>0</td>\n",
       "      <td>480</td>\n",
       "      <td>552</td>\n",
       "      <td>690</td>\n",
       "      <td>0</td>\n",
       "    </tr>\n",
       "    <tr>\n",
       "      <th>DaylightBasement</th>\n",
       "      <td></td>\n",
       "      <td>Y</td>\n",
       "      <td>N</td>\n",
       "      <td>N</td>\n",
       "      <td></td>\n",
       "    </tr>\n",
       "    <tr>\n",
       "      <th>SqFtOpenPorch</th>\n",
       "      <td>80</td>\n",
       "      <td>0</td>\n",
       "      <td>336</td>\n",
       "      <td>120</td>\n",
       "      <td>0</td>\n",
       "    </tr>\n",
       "    <tr>\n",
       "      <th>SqFtEnclosedPorch</th>\n",
       "      <td>0</td>\n",
       "      <td>0</td>\n",
       "      <td>192</td>\n",
       "      <td>0</td>\n",
       "      <td>0</td>\n",
       "    </tr>\n",
       "    <tr>\n",
       "      <th>SqFtDeck</th>\n",
       "      <td>0</td>\n",
       "      <td>600</td>\n",
       "      <td>1028</td>\n",
       "      <td>980</td>\n",
       "      <td>100</td>\n",
       "    </tr>\n",
       "    <tr>\n",
       "      <th>HeatSystem</th>\n",
       "      <td>6</td>\n",
       "      <td>5</td>\n",
       "      <td>5</td>\n",
       "      <td>5</td>\n",
       "      <td>5</td>\n",
       "    </tr>\n",
       "    <tr>\n",
       "      <th>HeatSource</th>\n",
       "      <td>1</td>\n",
       "      <td>2</td>\n",
       "      <td>2</td>\n",
       "      <td>2</td>\n",
       "      <td>1</td>\n",
       "    </tr>\n",
       "    <tr>\n",
       "      <th>BrickStone</th>\n",
       "      <td>0</td>\n",
       "      <td>0</td>\n",
       "      <td>0</td>\n",
       "      <td>0</td>\n",
       "      <td>0</td>\n",
       "    </tr>\n",
       "    <tr>\n",
       "      <th>ViewUtilization</th>\n",
       "      <td></td>\n",
       "      <td>N</td>\n",
       "      <td>N</td>\n",
       "      <td>N</td>\n",
       "      <td></td>\n",
       "    </tr>\n",
       "    <tr>\n",
       "      <th>Bedrooms</th>\n",
       "      <td>2</td>\n",
       "      <td>3</td>\n",
       "      <td>3</td>\n",
       "      <td>5</td>\n",
       "      <td>3</td>\n",
       "    </tr>\n",
       "    <tr>\n",
       "      <th>BathHalfCount</th>\n",
       "      <td>0</td>\n",
       "      <td>1</td>\n",
       "      <td>1</td>\n",
       "      <td>1</td>\n",
       "      <td>0</td>\n",
       "    </tr>\n",
       "    <tr>\n",
       "      <th>Bath3qtrCount</th>\n",
       "      <td>0</td>\n",
       "      <td>0</td>\n",
       "      <td>1</td>\n",
       "      <td>0</td>\n",
       "      <td>0</td>\n",
       "    </tr>\n",
       "    <tr>\n",
       "      <th>BathFullCount</th>\n",
       "      <td>1</td>\n",
       "      <td>2</td>\n",
       "      <td>1</td>\n",
       "      <td>3</td>\n",
       "      <td>1</td>\n",
       "    </tr>\n",
       "    <tr>\n",
       "      <th>FpSingleStory</th>\n",
       "      <td>0</td>\n",
       "      <td>0</td>\n",
       "      <td>0</td>\n",
       "      <td>0</td>\n",
       "      <td>0</td>\n",
       "    </tr>\n",
       "    <tr>\n",
       "      <th>FpMultiStory</th>\n",
       "      <td>0</td>\n",
       "      <td>0</td>\n",
       "      <td>2</td>\n",
       "      <td>2</td>\n",
       "      <td>1</td>\n",
       "    </tr>\n",
       "    <tr>\n",
       "      <th>FpFreestanding</th>\n",
       "      <td>0</td>\n",
       "      <td>2</td>\n",
       "      <td>0</td>\n",
       "      <td>0</td>\n",
       "      <td>0</td>\n",
       "    </tr>\n",
       "    <tr>\n",
       "      <th>FpAdditional</th>\n",
       "      <td>0</td>\n",
       "      <td>0</td>\n",
       "      <td>0</td>\n",
       "      <td>1</td>\n",
       "      <td>1</td>\n",
       "    </tr>\n",
       "    <tr>\n",
       "      <th>YrBuilt</th>\n",
       "      <td>1922</td>\n",
       "      <td>1978</td>\n",
       "      <td>1970</td>\n",
       "      <td>1989</td>\n",
       "      <td>1967</td>\n",
       "    </tr>\n",
       "    <tr>\n",
       "      <th>YrRenovated</th>\n",
       "      <td>0</td>\n",
       "      <td>0</td>\n",
       "      <td>0</td>\n",
       "      <td>0</td>\n",
       "      <td>0</td>\n",
       "    </tr>\n",
       "    <tr>\n",
       "      <th>PcntComplete</th>\n",
       "      <td>0</td>\n",
       "      <td>0</td>\n",
       "      <td>0</td>\n",
       "      <td>0</td>\n",
       "      <td>0</td>\n",
       "    </tr>\n",
       "    <tr>\n",
       "      <th>Obsolescence</th>\n",
       "      <td>0</td>\n",
       "      <td>0</td>\n",
       "      <td>0</td>\n",
       "      <td>0</td>\n",
       "      <td>0</td>\n",
       "    </tr>\n",
       "    <tr>\n",
       "      <th>PcntNetCondition</th>\n",
       "      <td>0</td>\n",
       "      <td>0</td>\n",
       "      <td>0</td>\n",
       "      <td>0</td>\n",
       "      <td>0</td>\n",
       "    </tr>\n",
       "    <tr>\n",
       "      <th>Condition</th>\n",
       "      <td>3</td>\n",
       "      <td>4</td>\n",
       "      <td>4</td>\n",
       "      <td>3</td>\n",
       "      <td>3</td>\n",
       "    </tr>\n",
       "    <tr>\n",
       "      <th>AddnlCost</th>\n",
       "      <td>0</td>\n",
       "      <td>0</td>\n",
       "      <td>0</td>\n",
       "      <td>20000</td>\n",
       "      <td>0</td>\n",
       "    </tr>\n",
       "  </tbody>\n",
       "</table>\n",
       "</div>"
      ],
      "text/plain": [
       "                                            0                            1  \\\n",
       "Major                                    4300                         4610   \n",
       "Minor                                     167                          399   \n",
       "BldgNbr                                     1                            1   \n",
       "NbrLivingUnits                              1                            1   \n",
       "Address             15223   40TH AVE S  98188  4431   FERNCROFT RD   98040   \n",
       "BuildingNumber                          15223                        4431    \n",
       "Fraction                                                                     \n",
       "DirectionPrefix                                                              \n",
       "StreetName          40TH                         FERNCROFT                   \n",
       "StreetType                             AVE                          RD       \n",
       "DirectionSuffix                            S                                 \n",
       "ZipCode                                 98188                        98040   \n",
       "Stories                                     1                            2   \n",
       "BldgGrade                                   6                            9   \n",
       "BldgGradeVar                                0                            0   \n",
       "SqFt1stFloor                              990                          980   \n",
       "SqFtHalfFloor                               0                            0   \n",
       "SqFt2ndFloor                                0                         1140   \n",
       "SqFtUpperFloor                              0                            0   \n",
       "SqFtUnfinFull                               0                            0   \n",
       "SqFtUnfinHalf                               0                            0   \n",
       "SqFtTotLiving                             990                         2950   \n",
       "SqFtTotBasement                           990                          940   \n",
       "SqFtFinBasement                             0                          830   \n",
       "FinBasementGrade                            0                            9   \n",
       "SqFtGarageBasement                          0                            0   \n",
       "SqFtGarageAttached                          0                          480   \n",
       "DaylightBasement                                                         Y   \n",
       "SqFtOpenPorch                              80                            0   \n",
       "SqFtEnclosedPorch                           0                            0   \n",
       "SqFtDeck                                    0                          600   \n",
       "HeatSystem                                  6                            5   \n",
       "HeatSource                                  1                            2   \n",
       "BrickStone                                  0                            0   \n",
       "ViewUtilization                                                          N   \n",
       "Bedrooms                                    2                            3   \n",
       "BathHalfCount                               0                            1   \n",
       "Bath3qtrCount                               0                            0   \n",
       "BathFullCount                               1                            2   \n",
       "FpSingleStory                               0                            0   \n",
       "FpMultiStory                                0                            0   \n",
       "FpFreestanding                              0                            2   \n",
       "FpAdditional                                0                            0   \n",
       "YrBuilt                                  1922                         1978   \n",
       "YrRenovated                                 0                            0   \n",
       "PcntComplete                                0                            0   \n",
       "Obsolescence                                0                            0   \n",
       "PcntNetCondition                            0                            0   \n",
       "Condition                                   3                            4   \n",
       "AddnlCost                                   0                            0   \n",
       "\n",
       "                                              2                            3  \\\n",
       "Major                                      4610                         4610   \n",
       "Minor                                       503                          505   \n",
       "BldgNbr                                       1                            1   \n",
       "NbrLivingUnits                                1                            1   \n",
       "Address             4516   FERNCROFT RD   98040  4538   FERNCROFT RD   98040   \n",
       "BuildingNumber                            4516                         4538    \n",
       "Fraction                                                                       \n",
       "DirectionPrefix                                                                \n",
       "StreetName            FERNCROFT                    FERNCROFT                   \n",
       "StreetType                               RD                           RD       \n",
       "DirectionSuffix                                                                \n",
       "ZipCode                                   98040                        98040   \n",
       "Stories                                       2                            2   \n",
       "BldgGrade                                     9                           11   \n",
       "BldgGradeVar                                  0                            0   \n",
       "SqFt1stFloor                               1916                         2250   \n",
       "SqFtHalfFloor                                 0                            0   \n",
       "SqFt2ndFloor                               1473                         1850   \n",
       "SqFtUpperFloor                                0                            0   \n",
       "SqFtUnfinFull                                 0                            0   \n",
       "SqFtUnfinHalf                                 0                            0   \n",
       "SqFtTotLiving                              3389                         4100   \n",
       "SqFtTotBasement                               0                            0   \n",
       "SqFtFinBasement                               0                            0   \n",
       "FinBasementGrade                              0                            0   \n",
       "SqFtGarageBasement                            0                            0   \n",
       "SqFtGarageAttached                          552                          690   \n",
       "DaylightBasement                              N                            N   \n",
       "SqFtOpenPorch                               336                          120   \n",
       "SqFtEnclosedPorch                           192                            0   \n",
       "SqFtDeck                                   1028                          980   \n",
       "HeatSystem                                    5                            5   \n",
       "HeatSource                                    2                            2   \n",
       "BrickStone                                    0                            0   \n",
       "ViewUtilization                               N                            N   \n",
       "Bedrooms                                      3                            5   \n",
       "BathHalfCount                                 1                            1   \n",
       "Bath3qtrCount                                 1                            0   \n",
       "BathFullCount                                 1                            3   \n",
       "FpSingleStory                                 0                            0   \n",
       "FpMultiStory                                  2                            2   \n",
       "FpFreestanding                                0                            0   \n",
       "FpAdditional                                  0                            1   \n",
       "YrBuilt                                    1970                         1989   \n",
       "YrRenovated                                   0                            0   \n",
       "PcntComplete                                  0                            0   \n",
       "Obsolescence                                  0                            0   \n",
       "PcntNetCondition                              0                            0   \n",
       "Condition                                     4                            3   \n",
       "AddnlCost                                     0                        20000   \n",
       "\n",
       "                                            4  \n",
       "Major                                    4900  \n",
       "Minor                                      56  \n",
       "BldgNbr                                     1  \n",
       "NbrLivingUnits                              1  \n",
       "Address             3015  SW 105TH ST   98146  \n",
       "BuildingNumber                          3015   \n",
       "Fraction                                       \n",
       "DirectionPrefix                            SW  \n",
       "StreetName          105TH                      \n",
       "StreetType                             ST      \n",
       "DirectionSuffix                                \n",
       "ZipCode                                 98146  \n",
       "Stories                                     1  \n",
       "BldgGrade                                   7  \n",
       "BldgGradeVar                                0  \n",
       "SqFt1stFloor                             1040  \n",
       "SqFtHalfFloor                               0  \n",
       "SqFt2ndFloor                                0  \n",
       "SqFtUpperFloor                              0  \n",
       "SqFtUnfinFull                               0  \n",
       "SqFtUnfinHalf                               0  \n",
       "SqFtTotLiving                            1570  \n",
       "SqFtTotBasement                          1040  \n",
       "SqFtFinBasement                           530  \n",
       "FinBasementGrade                            7  \n",
       "SqFtGarageBasement                        430  \n",
       "SqFtGarageAttached                          0  \n",
       "DaylightBasement                               \n",
       "SqFtOpenPorch                               0  \n",
       "SqFtEnclosedPorch                           0  \n",
       "SqFtDeck                                  100  \n",
       "HeatSystem                                  5  \n",
       "HeatSource                                  1  \n",
       "BrickStone                                  0  \n",
       "ViewUtilization                                \n",
       "Bedrooms                                    3  \n",
       "BathHalfCount                               0  \n",
       "Bath3qtrCount                               0  \n",
       "BathFullCount                               1  \n",
       "FpSingleStory                               0  \n",
       "FpMultiStory                                1  \n",
       "FpFreestanding                              0  \n",
       "FpAdditional                                1  \n",
       "YrBuilt                                  1967  \n",
       "YrRenovated                                 0  \n",
       "PcntComplete                                0  \n",
       "Obsolescence                                0  \n",
       "PcntNetCondition                            0  \n",
       "Condition                                   3  \n",
       "AddnlCost                                   0  "
      ]
     },
     "execution_count": 9,
     "metadata": {},
     "output_type": "execute_result"
    }
   ],
   "source": [
    "bldg_df.head().T"
   ]
  },
  {
   "cell_type": "markdown",
   "metadata": {},
   "source": [
    "### So many features!\n",
    "\n",
    "As data scientists, we should be _very_ cautious about discarding potentially useful data. But, today, we're interested in _only_ the total square footage of each property. What can we do?\n"
   ]
  },
  {
   "cell_type": "code",
   "execution_count": 10,
   "metadata": {},
   "outputs": [],
   "source": [
    "bldg_df = bldg_df[['Major', 'Minor', 'SqFtTotLiving', 'ZipCode']]"
   ]
  },
  {
   "cell_type": "code",
   "execution_count": 11,
   "metadata": {
    "scrolled": true
   },
   "outputs": [
    {
     "name": "stdout",
     "output_type": "stream",
     "text": [
      "<class 'pandas.core.frame.DataFrame'>\n",
      "RangeIndex: 511412 entries, 0 to 511411\n",
      "Data columns (total 4 columns):\n",
      "Major            511412 non-null int64\n",
      "Minor            511412 non-null int64\n",
      "SqFtTotLiving    511412 non-null int64\n",
      "ZipCode          468372 non-null object\n",
      "dtypes: int64(3), object(1)\n",
      "memory usage: 15.6+ MB\n"
     ]
    }
   ],
   "source": [
    "bldg_df.info()"
   ]
  },
  {
   "cell_type": "code",
   "execution_count": 13,
   "metadata": {},
   "outputs": [
    {
     "ename": "ValueError",
     "evalue": "You are trying to merge on object and int64 columns. If you wish to proceed you should use pd.concat",
     "output_type": "error",
     "traceback": [
      "\u001b[0;31m---------------------------------------------------------------------------\u001b[0m",
      "\u001b[0;31mValueError\u001b[0m                                Traceback (most recent call last)",
      "\u001b[0;32m<ipython-input-13-764b2d8a2609>\u001b[0m in \u001b[0;36m<module>\u001b[0;34m()\u001b[0m\n\u001b[0;32m----> 1\u001b[0;31m \u001b[0msales_data\u001b[0m \u001b[0;34m=\u001b[0m \u001b[0mpd\u001b[0m\u001b[0;34m.\u001b[0m\u001b[0mmerge\u001b[0m\u001b[0;34m(\u001b[0m\u001b[0msales_df\u001b[0m\u001b[0;34m,\u001b[0m \u001b[0mbldg_df\u001b[0m\u001b[0;34m,\u001b[0m \u001b[0mon\u001b[0m\u001b[0;34m=\u001b[0m\u001b[0;34m[\u001b[0m\u001b[0;34m'Major'\u001b[0m\u001b[0;34m,\u001b[0m \u001b[0;34m'Minor'\u001b[0m\u001b[0;34m]\u001b[0m\u001b[0;34m)\u001b[0m\u001b[0;34m\u001b[0m\u001b[0m\n\u001b[0m",
      "\u001b[0;32m/anaconda3/envs/learn-env/lib/python3.6/site-packages/pandas/core/reshape/merge.py\u001b[0m in \u001b[0;36mmerge\u001b[0;34m(left, right, how, on, left_on, right_on, left_index, right_index, sort, suffixes, copy, indicator, validate)\u001b[0m\n\u001b[1;32m     59\u001b[0m                          \u001b[0mright_index\u001b[0m\u001b[0;34m=\u001b[0m\u001b[0mright_index\u001b[0m\u001b[0;34m,\u001b[0m \u001b[0msort\u001b[0m\u001b[0;34m=\u001b[0m\u001b[0msort\u001b[0m\u001b[0;34m,\u001b[0m \u001b[0msuffixes\u001b[0m\u001b[0;34m=\u001b[0m\u001b[0msuffixes\u001b[0m\u001b[0;34m,\u001b[0m\u001b[0;34m\u001b[0m\u001b[0m\n\u001b[1;32m     60\u001b[0m                          \u001b[0mcopy\u001b[0m\u001b[0;34m=\u001b[0m\u001b[0mcopy\u001b[0m\u001b[0;34m,\u001b[0m \u001b[0mindicator\u001b[0m\u001b[0;34m=\u001b[0m\u001b[0mindicator\u001b[0m\u001b[0;34m,\u001b[0m\u001b[0;34m\u001b[0m\u001b[0m\n\u001b[0;32m---> 61\u001b[0;31m                          validate=validate)\n\u001b[0m\u001b[1;32m     62\u001b[0m     \u001b[0;32mreturn\u001b[0m \u001b[0mop\u001b[0m\u001b[0;34m.\u001b[0m\u001b[0mget_result\u001b[0m\u001b[0;34m(\u001b[0m\u001b[0;34m)\u001b[0m\u001b[0;34m\u001b[0m\u001b[0m\n\u001b[1;32m     63\u001b[0m \u001b[0;34m\u001b[0m\u001b[0m\n",
      "\u001b[0;32m/anaconda3/envs/learn-env/lib/python3.6/site-packages/pandas/core/reshape/merge.py\u001b[0m in \u001b[0;36m__init__\u001b[0;34m(self, left, right, how, on, left_on, right_on, axis, left_index, right_index, sort, suffixes, copy, indicator, validate)\u001b[0m\n\u001b[1;32m    553\u001b[0m         \u001b[0;31m# validate the merge keys dtypes. We may need to coerce\u001b[0m\u001b[0;34m\u001b[0m\u001b[0;34m\u001b[0m\u001b[0m\n\u001b[1;32m    554\u001b[0m         \u001b[0;31m# to avoid incompat dtypes\u001b[0m\u001b[0;34m\u001b[0m\u001b[0;34m\u001b[0m\u001b[0m\n\u001b[0;32m--> 555\u001b[0;31m         \u001b[0mself\u001b[0m\u001b[0;34m.\u001b[0m\u001b[0m_maybe_coerce_merge_keys\u001b[0m\u001b[0;34m(\u001b[0m\u001b[0;34m)\u001b[0m\u001b[0;34m\u001b[0m\u001b[0m\n\u001b[0m\u001b[1;32m    556\u001b[0m \u001b[0;34m\u001b[0m\u001b[0m\n\u001b[1;32m    557\u001b[0m         \u001b[0;31m# If argument passed to validate,\u001b[0m\u001b[0;34m\u001b[0m\u001b[0;34m\u001b[0m\u001b[0m\n",
      "\u001b[0;32m/anaconda3/envs/learn-env/lib/python3.6/site-packages/pandas/core/reshape/merge.py\u001b[0m in \u001b[0;36m_maybe_coerce_merge_keys\u001b[0;34m(self)\u001b[0m\n\u001b[1;32m    984\u001b[0m             elif (not is_numeric_dtype(lk)\n\u001b[1;32m    985\u001b[0m                     and (is_numeric_dtype(rk) and not is_bool_dtype(rk))):\n\u001b[0;32m--> 986\u001b[0;31m                 \u001b[0;32mraise\u001b[0m \u001b[0mValueError\u001b[0m\u001b[0;34m(\u001b[0m\u001b[0mmsg\u001b[0m\u001b[0;34m)\u001b[0m\u001b[0;34m\u001b[0m\u001b[0m\n\u001b[0m\u001b[1;32m    987\u001b[0m             \u001b[0;32melif\u001b[0m \u001b[0mis_datetimelike\u001b[0m\u001b[0;34m(\u001b[0m\u001b[0mlk\u001b[0m\u001b[0;34m)\u001b[0m \u001b[0;32mand\u001b[0m \u001b[0;32mnot\u001b[0m \u001b[0mis_datetimelike\u001b[0m\u001b[0;34m(\u001b[0m\u001b[0mrk\u001b[0m\u001b[0;34m)\u001b[0m\u001b[0;34m:\u001b[0m\u001b[0;34m\u001b[0m\u001b[0m\n\u001b[1;32m    988\u001b[0m                 \u001b[0;32mraise\u001b[0m \u001b[0mValueError\u001b[0m\u001b[0;34m(\u001b[0m\u001b[0mmsg\u001b[0m\u001b[0;34m)\u001b[0m\u001b[0;34m\u001b[0m\u001b[0m\n",
      "\u001b[0;31mValueError\u001b[0m: You are trying to merge on object and int64 columns. If you wish to proceed you should use pd.concat"
     ]
    }
   ],
   "source": [
    "sales_data = pd.merge(sales_df, bldg_df, on=['Major', 'Minor'])"
   ]
  },
  {
   "cell_type": "markdown",
   "metadata": {},
   "source": [
    "### Error!\n",
    "\n",
    "Why are we seeing an error when we try to join the dataframes?\n",
    "\n",
    "<table>\n",
    "    <tr>\n",
    "        <td style=\"text-align:left\"><pre>\n",
    "<class 'pandas.core.frame.DataFrame'>\n",
    "RangeIndex: 2013160 entries, 0 to 2013159\n",
    "Data columns (total 4 columns):\n",
    "Major           object\n",
    "Minor           object\n",
    "DocumentDate    object\n",
    "SalePrice       int64\n",
    "dtypes: int64(1), object(3)\n",
    "memory usage: 61.4+ MB</pre></td>\n",
    "        <td style=\"text-align:left\"><pre>\n",
    "<class 'pandas.core.frame.DataFrame'>\n",
    "RangeIndex: 511359 entries, 0 to 511358\n",
    "Data columns (total 4 columns):\n",
    "Major            511359 non-null int64\n",
    "Minor            511359 non-null int64\n",
    "SqFtTotLiving    511359 non-null int64\n",
    "ZipCode          468345 non-null object\n",
    "dtypes: int64(3), object(1)\n",
    "memory usage: 15.6+ MB\n",
    "</pre></td>\n",
    "    </tr>\n",
    "</table>\n",
    "\n",
    "Review the error message in light of the above:\n",
    "\n",
    "* `ValueError: You are trying to merge on object and int64 columns.`"
   ]
  },
  {
   "cell_type": "code",
   "execution_count": 14,
   "metadata": {},
   "outputs": [
    {
     "ename": "ValueError",
     "evalue": "Unable to parse string \"      \" at position 935519",
     "output_type": "error",
     "traceback": [
      "\u001b[0;31m---------------------------------------------------------------------------\u001b[0m",
      "\u001b[0;31mValueError\u001b[0m                                Traceback (most recent call last)",
      "\u001b[0;32mpandas/_libs/src/inference.pyx\u001b[0m in \u001b[0;36mpandas._libs.lib.maybe_convert_numeric\u001b[0;34m()\u001b[0m\n",
      "\u001b[0;31mValueError\u001b[0m: Unable to parse string \"      \"",
      "\nDuring handling of the above exception, another exception occurred:\n",
      "\u001b[0;31mValueError\u001b[0m                                Traceback (most recent call last)",
      "\u001b[0;32m<ipython-input-14-a99a999cbad4>\u001b[0m in \u001b[0;36m<module>\u001b[0;34m()\u001b[0m\n\u001b[0;32m----> 1\u001b[0;31m \u001b[0msales_df\u001b[0m\u001b[0;34m[\u001b[0m\u001b[0;34m'Major'\u001b[0m\u001b[0;34m]\u001b[0m \u001b[0;34m=\u001b[0m \u001b[0mpd\u001b[0m\u001b[0;34m.\u001b[0m\u001b[0mto_numeric\u001b[0m\u001b[0;34m(\u001b[0m\u001b[0msales_df\u001b[0m\u001b[0;34m[\u001b[0m\u001b[0;34m'Major'\u001b[0m\u001b[0;34m]\u001b[0m\u001b[0;34m)\u001b[0m\u001b[0;34m\u001b[0m\u001b[0m\n\u001b[0m",
      "\u001b[0;32m/anaconda3/envs/learn-env/lib/python3.6/site-packages/pandas/core/tools/numeric.py\u001b[0m in \u001b[0;36mto_numeric\u001b[0;34m(arg, errors, downcast)\u001b[0m\n\u001b[1;32m    131\u001b[0m             \u001b[0mcoerce_numeric\u001b[0m \u001b[0;34m=\u001b[0m \u001b[0;32mFalse\u001b[0m \u001b[0;32mif\u001b[0m \u001b[0merrors\u001b[0m \u001b[0;32min\u001b[0m \u001b[0;34m(\u001b[0m\u001b[0;34m'ignore'\u001b[0m\u001b[0;34m,\u001b[0m \u001b[0;34m'raise'\u001b[0m\u001b[0;34m)\u001b[0m \u001b[0;32melse\u001b[0m \u001b[0;32mTrue\u001b[0m\u001b[0;34m\u001b[0m\u001b[0m\n\u001b[1;32m    132\u001b[0m             values = lib.maybe_convert_numeric(values, set(),\n\u001b[0;32m--> 133\u001b[0;31m                                                coerce_numeric=coerce_numeric)\n\u001b[0m\u001b[1;32m    134\u001b[0m \u001b[0;34m\u001b[0m\u001b[0m\n\u001b[1;32m    135\u001b[0m     \u001b[0;32mexcept\u001b[0m \u001b[0mException\u001b[0m\u001b[0;34m:\u001b[0m\u001b[0;34m\u001b[0m\u001b[0m\n",
      "\u001b[0;32mpandas/_libs/src/inference.pyx\u001b[0m in \u001b[0;36mpandas._libs.lib.maybe_convert_numeric\u001b[0;34m()\u001b[0m\n",
      "\u001b[0;31mValueError\u001b[0m: Unable to parse string \"      \" at position 935519"
     ]
    }
   ],
   "source": [
    "sales_df['Major'] = pd.to_numeric(sales_df['Major'])"
   ]
  },
  {
   "cell_type": "markdown",
   "metadata": {},
   "source": [
    "### Error!\n",
    "\n",
    "Note the useful error message above:\n",
    "\n",
    "`ValueError: Unable to parse string \"      \" at position 936643`\n",
    "\n",
    "In this case, we want to treat non-numeric values as missing values. Let's see if there's a way to change how the `pd.to_numeric` function handles errors."
   ]
  },
  {
   "cell_type": "code",
   "execution_count": 15,
   "metadata": {},
   "outputs": [],
   "source": [
    "# The single question mark means \"show me the docstring\"\n",
    "pd.to_numeric?"
   ]
  },
  {
   "cell_type": "markdown",
   "metadata": {},
   "source": [
    "Here's the part that we're looking for:\n",
    "```\n",
    "errors : {'ignore', 'raise', 'coerce'}, default 'raise'\n",
    "    - If 'raise', then invalid parsing will raise an exception\n",
    "    - If 'coerce', then invalid parsing will be set as NaN\n",
    "    - If 'ignore', then invalid parsing will return the input\n",
    "```\n",
    "\n",
    "Let's try setting the `errors` parameter to `'coerce'`."
   ]
  },
  {
   "cell_type": "code",
   "execution_count": 16,
   "metadata": {},
   "outputs": [],
   "source": [
    "sales_df['Major'] = pd.to_numeric(sales_df['Major'], errors='coerce')"
   ]
  },
  {
   "cell_type": "markdown",
   "metadata": {},
   "source": [
    "Did it work?"
   ]
  },
  {
   "cell_type": "code",
   "execution_count": 17,
   "metadata": {},
   "outputs": [
    {
     "name": "stdout",
     "output_type": "stream",
     "text": [
      "<class 'pandas.core.frame.DataFrame'>\n",
      "RangeIndex: 2014336 entries, 0 to 2014335\n",
      "Data columns (total 4 columns):\n",
      "Major           float64\n",
      "Minor           object\n",
      "DocumentDate    object\n",
      "SalePrice       int64\n",
      "dtypes: float64(1), int64(1), object(2)\n",
      "memory usage: 61.5+ MB\n"
     ]
    }
   ],
   "source": [
    "sales_df.info()"
   ]
  },
  {
   "cell_type": "markdown",
   "metadata": {},
   "source": [
    "It worked! Let's do the same thing with the `Minor` parcel number."
   ]
  },
  {
   "cell_type": "code",
   "execution_count": 18,
   "metadata": {},
   "outputs": [],
   "source": [
    "sales_df['Minor'] = pd.to_numeric(sales_df['Minor'], errors='coerce')"
   ]
  },
  {
   "cell_type": "code",
   "execution_count": 19,
   "metadata": {},
   "outputs": [
    {
     "name": "stdout",
     "output_type": "stream",
     "text": [
      "<class 'pandas.core.frame.DataFrame'>\n",
      "RangeIndex: 2014336 entries, 0 to 2014335\n",
      "Data columns (total 4 columns):\n",
      "Major           float64\n",
      "Minor           float64\n",
      "DocumentDate    object\n",
      "SalePrice       int64\n",
      "dtypes: float64(2), int64(1), object(1)\n",
      "memory usage: 61.5+ MB\n"
     ]
    }
   ],
   "source": [
    "sales_df.info()"
   ]
  },
  {
   "cell_type": "markdown",
   "metadata": {},
   "source": [
    "Now, let's try our join again."
   ]
  },
  {
   "cell_type": "code",
   "execution_count": 158,
   "metadata": {},
   "outputs": [],
   "source": [
    "sales_data = pd.merge(sales_df, bldg_df, on=['Major', 'Minor'])"
   ]
  },
  {
   "cell_type": "code",
   "execution_count": 159,
   "metadata": {},
   "outputs": [
    {
     "data": {
      "text/html": [
       "<div>\n",
       "<style scoped>\n",
       "    .dataframe tbody tr th:only-of-type {\n",
       "        vertical-align: middle;\n",
       "    }\n",
       "\n",
       "    .dataframe tbody tr th {\n",
       "        vertical-align: top;\n",
       "    }\n",
       "\n",
       "    .dataframe thead th {\n",
       "        text-align: right;\n",
       "    }\n",
       "</style>\n",
       "<table border=\"1\" class=\"dataframe\">\n",
       "  <thead>\n",
       "    <tr style=\"text-align: right;\">\n",
       "      <th></th>\n",
       "      <th>Major</th>\n",
       "      <th>Minor</th>\n",
       "      <th>DocumentDate</th>\n",
       "      <th>SalePrice</th>\n",
       "      <th>SqFtTotLiving</th>\n",
       "      <th>ZipCode</th>\n",
       "    </tr>\n",
       "  </thead>\n",
       "  <tbody>\n",
       "    <tr>\n",
       "      <th>0</th>\n",
       "      <td>138860.0</td>\n",
       "      <td>110.0</td>\n",
       "      <td>08/21/2014</td>\n",
       "      <td>245000</td>\n",
       "      <td>1490</td>\n",
       "      <td>98002</td>\n",
       "    </tr>\n",
       "    <tr>\n",
       "      <th>1</th>\n",
       "      <td>138860.0</td>\n",
       "      <td>110.0</td>\n",
       "      <td>06/12/1989</td>\n",
       "      <td>109300</td>\n",
       "      <td>1490</td>\n",
       "      <td>98002</td>\n",
       "    </tr>\n",
       "    <tr>\n",
       "      <th>2</th>\n",
       "      <td>138860.0</td>\n",
       "      <td>110.0</td>\n",
       "      <td>01/16/2005</td>\n",
       "      <td>14684</td>\n",
       "      <td>1490</td>\n",
       "      <td>98002</td>\n",
       "    </tr>\n",
       "    <tr>\n",
       "      <th>3</th>\n",
       "      <td>138860.0</td>\n",
       "      <td>110.0</td>\n",
       "      <td>06/08/2005</td>\n",
       "      <td>0</td>\n",
       "      <td>1490</td>\n",
       "      <td>98002</td>\n",
       "    </tr>\n",
       "    <tr>\n",
       "      <th>4</th>\n",
       "      <td>423943.0</td>\n",
       "      <td>50.0</td>\n",
       "      <td>10/11/2014</td>\n",
       "      <td>0</td>\n",
       "      <td>960</td>\n",
       "      <td>98092</td>\n",
       "    </tr>\n",
       "  </tbody>\n",
       "</table>\n",
       "</div>"
      ],
      "text/plain": [
       "      Major  Minor DocumentDate  SalePrice  SqFtTotLiving ZipCode\n",
       "0  138860.0  110.0   08/21/2014     245000           1490   98002\n",
       "1  138860.0  110.0   06/12/1989     109300           1490   98002\n",
       "2  138860.0  110.0   01/16/2005      14684           1490   98002\n",
       "3  138860.0  110.0   06/08/2005          0           1490   98002\n",
       "4  423943.0   50.0   10/11/2014          0            960   98092"
      ]
     },
     "execution_count": 159,
     "metadata": {},
     "output_type": "execute_result"
    }
   ],
   "source": [
    "sales_data.head()"
   ]
  },
  {
   "cell_type": "code",
   "execution_count": 160,
   "metadata": {},
   "outputs": [
    {
     "name": "stdout",
     "output_type": "stream",
     "text": [
      "<class 'pandas.core.frame.DataFrame'>\n",
      "Int64Index: 1437522 entries, 0 to 1437521\n",
      "Data columns (total 6 columns):\n",
      "Major            1437522 non-null float64\n",
      "Minor            1437522 non-null float64\n",
      "DocumentDate     1437522 non-null object\n",
      "SalePrice        1437522 non-null int64\n",
      "SqFtTotLiving    1437522 non-null int64\n",
      "ZipCode          1322148 non-null object\n",
      "dtypes: float64(2), int64(2), object(2)\n",
      "memory usage: 76.8+ MB\n"
     ]
    }
   ],
   "source": [
    "sales_data.info()"
   ]
  },
  {
   "cell_type": "markdown",
   "metadata": {},
   "source": [
    "We can see right away that we're missing zip codes for many of the sales transactions. (1321536 non-null entries for ZipCode is fewer than the 1436772 entries in the dataframe.) "
   ]
  },
  {
   "cell_type": "code",
   "execution_count": 161,
   "metadata": {},
   "outputs": [
    {
     "data": {
      "text/html": [
       "<div>\n",
       "<style scoped>\n",
       "    .dataframe tbody tr th:only-of-type {\n",
       "        vertical-align: middle;\n",
       "    }\n",
       "\n",
       "    .dataframe tbody tr th {\n",
       "        vertical-align: top;\n",
       "    }\n",
       "\n",
       "    .dataframe thead th {\n",
       "        text-align: right;\n",
       "    }\n",
       "</style>\n",
       "<table border=\"1\" class=\"dataframe\">\n",
       "  <thead>\n",
       "    <tr style=\"text-align: right;\">\n",
       "      <th></th>\n",
       "      <th>Major</th>\n",
       "      <th>Minor</th>\n",
       "      <th>DocumentDate</th>\n",
       "      <th>SalePrice</th>\n",
       "      <th>SqFtTotLiving</th>\n",
       "      <th>ZipCode</th>\n",
       "    </tr>\n",
       "  </thead>\n",
       "  <tbody>\n",
       "    <tr>\n",
       "      <th>99</th>\n",
       "      <td>858140.0</td>\n",
       "      <td>376.0</td>\n",
       "      <td>05/22/2012</td>\n",
       "      <td>0</td>\n",
       "      <td>900</td>\n",
       "      <td>NaN</td>\n",
       "    </tr>\n",
       "    <tr>\n",
       "      <th>100</th>\n",
       "      <td>858140.0</td>\n",
       "      <td>376.0</td>\n",
       "      <td>11/28/2017</td>\n",
       "      <td>0</td>\n",
       "      <td>900</td>\n",
       "      <td>NaN</td>\n",
       "    </tr>\n",
       "    <tr>\n",
       "      <th>152</th>\n",
       "      <td>720319.0</td>\n",
       "      <td>520.0</td>\n",
       "      <td>11/20/2013</td>\n",
       "      <td>699950</td>\n",
       "      <td>2840</td>\n",
       "      <td>NaN</td>\n",
       "    </tr>\n",
       "    <tr>\n",
       "      <th>153</th>\n",
       "      <td>720319.0</td>\n",
       "      <td>520.0</td>\n",
       "      <td>09/16/2013</td>\n",
       "      <td>0</td>\n",
       "      <td>2840</td>\n",
       "      <td>NaN</td>\n",
       "    </tr>\n",
       "    <tr>\n",
       "      <th>163</th>\n",
       "      <td>894677.0</td>\n",
       "      <td>240.0</td>\n",
       "      <td>12/21/2016</td>\n",
       "      <td>818161</td>\n",
       "      <td>2450</td>\n",
       "      <td>NaN</td>\n",
       "    </tr>\n",
       "  </tbody>\n",
       "</table>\n",
       "</div>"
      ],
      "text/plain": [
       "        Major  Minor DocumentDate  SalePrice  SqFtTotLiving ZipCode\n",
       "99   858140.0  376.0   05/22/2012          0            900     NaN\n",
       "100  858140.0  376.0   11/28/2017          0            900     NaN\n",
       "152  720319.0  520.0   11/20/2013     699950           2840     NaN\n",
       "153  720319.0  520.0   09/16/2013          0           2840     NaN\n",
       "163  894677.0  240.0   12/21/2016     818161           2450     NaN"
      ]
     },
     "execution_count": 161,
     "metadata": {},
     "output_type": "execute_result"
    }
   ],
   "source": [
    "sales_data.loc[sales_data['ZipCode'].isna()].head()"
   ]
  },
  {
   "cell_type": "markdown",
   "metadata": {},
   "source": [
    "Because we are interested in finding houses in Seattle zip codes, we will need to drop the rows with missing zip codes."
   ]
  },
  {
   "cell_type": "code",
   "execution_count": 162,
   "metadata": {},
   "outputs": [
    {
     "data": {
      "text/html": [
       "<div>\n",
       "<style scoped>\n",
       "    .dataframe tbody tr th:only-of-type {\n",
       "        vertical-align: middle;\n",
       "    }\n",
       "\n",
       "    .dataframe tbody tr th {\n",
       "        vertical-align: top;\n",
       "    }\n",
       "\n",
       "    .dataframe thead th {\n",
       "        text-align: right;\n",
       "    }\n",
       "</style>\n",
       "<table border=\"1\" class=\"dataframe\">\n",
       "  <thead>\n",
       "    <tr style=\"text-align: right;\">\n",
       "      <th></th>\n",
       "      <th>Major</th>\n",
       "      <th>Minor</th>\n",
       "      <th>DocumentDate</th>\n",
       "      <th>SalePrice</th>\n",
       "      <th>SqFtTotLiving</th>\n",
       "      <th>ZipCode</th>\n",
       "    </tr>\n",
       "  </thead>\n",
       "  <tbody>\n",
       "    <tr>\n",
       "      <th>0</th>\n",
       "      <td>138860.0</td>\n",
       "      <td>110.0</td>\n",
       "      <td>08/21/2014</td>\n",
       "      <td>245000</td>\n",
       "      <td>1490</td>\n",
       "      <td>98002</td>\n",
       "    </tr>\n",
       "    <tr>\n",
       "      <th>1</th>\n",
       "      <td>138860.0</td>\n",
       "      <td>110.0</td>\n",
       "      <td>06/12/1989</td>\n",
       "      <td>109300</td>\n",
       "      <td>1490</td>\n",
       "      <td>98002</td>\n",
       "    </tr>\n",
       "    <tr>\n",
       "      <th>2</th>\n",
       "      <td>138860.0</td>\n",
       "      <td>110.0</td>\n",
       "      <td>01/16/2005</td>\n",
       "      <td>14684</td>\n",
       "      <td>1490</td>\n",
       "      <td>98002</td>\n",
       "    </tr>\n",
       "    <tr>\n",
       "      <th>3</th>\n",
       "      <td>138860.0</td>\n",
       "      <td>110.0</td>\n",
       "      <td>06/08/2005</td>\n",
       "      <td>0</td>\n",
       "      <td>1490</td>\n",
       "      <td>98002</td>\n",
       "    </tr>\n",
       "    <tr>\n",
       "      <th>4</th>\n",
       "      <td>423943.0</td>\n",
       "      <td>50.0</td>\n",
       "      <td>10/11/2014</td>\n",
       "      <td>0</td>\n",
       "      <td>960</td>\n",
       "      <td>98092</td>\n",
       "    </tr>\n",
       "  </tbody>\n",
       "</table>\n",
       "</div>"
      ],
      "text/plain": [
       "      Major  Minor DocumentDate  SalePrice  SqFtTotLiving ZipCode\n",
       "0  138860.0  110.0   08/21/2014     245000           1490   98002\n",
       "1  138860.0  110.0   06/12/1989     109300           1490   98002\n",
       "2  138860.0  110.0   01/16/2005      14684           1490   98002\n",
       "3  138860.0  110.0   06/08/2005          0           1490   98002\n",
       "4  423943.0   50.0   10/11/2014          0            960   98092"
      ]
     },
     "execution_count": 162,
     "metadata": {},
     "output_type": "execute_result"
    }
   ],
   "source": [
    "sales_data = sales_data.loc[~sales_data['ZipCode'].isna(), :]\n",
    "\n",
    "sales_data.head()"
   ]
  },
  {
   "cell_type": "code",
   "execution_count": 163,
   "metadata": {},
   "outputs": [
    {
     "name": "stdout",
     "output_type": "stream",
     "text": [
      "<class 'pandas.core.frame.DataFrame'>\n",
      "Int64Index: 1322148 entries, 0 to 1437521\n",
      "Data columns (total 6 columns):\n",
      "Major            1322148 non-null float64\n",
      "Minor            1322148 non-null float64\n",
      "DocumentDate     1322148 non-null object\n",
      "SalePrice        1322148 non-null int64\n",
      "SqFtTotLiving    1322148 non-null int64\n",
      "ZipCode          1322148 non-null object\n",
      "dtypes: float64(2), int64(2), object(2)\n",
      "memory usage: 70.6+ MB\n"
     ]
    }
   ],
   "source": [
    "sales_data.info()"
   ]
  },
  {
   "cell_type": "markdown",
   "metadata": {},
   "source": [
    "# Your turn: Data Cleaning with Pandas"
   ]
  },
  {
   "cell_type": "markdown",
   "metadata": {},
   "source": [
    "### 1. Investigate and drop rows with invalid values in the SalePrice and SqFtTotLiving columns.\n",
    "\n",
    "Use multiple notebook cells to accomplish this! Press `[esc]` then `B` to create a new cell below the current cell. Press `[return]` to start typing in the new cell."
   ]
  },
  {
   "cell_type": "markdown",
   "metadata": {},
   "source": [
    "---\n",
    "---\n",
    "Before starting, let's create my own version of the data:\n"
   ]
  },
  {
   "cell_type": "code",
   "execution_count": 188,
   "metadata": {},
   "outputs": [],
   "source": [
    "sales_data_wm = sales_data"
   ]
  },
  {
   "cell_type": "code",
   "execution_count": 189,
   "metadata": {},
   "outputs": [
    {
     "data": {
      "text/plain": [
       "0    245000\n",
       "1    109300\n",
       "2     14684\n",
       "3         0\n",
       "4         0\n",
       "Name: SalePrice, dtype: int64"
      ]
     },
     "execution_count": 189,
     "metadata": {},
     "output_type": "execute_result"
    }
   ],
   "source": [
    "sales_data_wm['SalePrice'].head()"
   ]
  },
  {
   "cell_type": "code",
   "execution_count": 190,
   "metadata": {},
   "outputs": [
    {
     "data": {
      "text/plain": [
       "(1322148, 6)"
      ]
     },
     "execution_count": 190,
     "metadata": {},
     "output_type": "execute_result"
    }
   ],
   "source": [
    "sales_data_wm.shape"
   ]
  },
  {
   "cell_type": "code",
   "execution_count": 191,
   "metadata": {},
   "outputs": [
    {
     "name": "stdout",
     "output_type": "stream",
     "text": [
      "<class 'pandas.core.frame.DataFrame'>\n",
      "Int64Index: 1322148 entries, 0 to 1437521\n",
      "Data columns (total 6 columns):\n",
      "Major            1322148 non-null float64\n",
      "Minor            1322148 non-null float64\n",
      "DocumentDate     1322148 non-null object\n",
      "SalePrice        1322148 non-null int64\n",
      "SqFtTotLiving    1322148 non-null int64\n",
      "ZipCode          1322148 non-null object\n",
      "dtypes: float64(2), int64(2), object(2)\n",
      "memory usage: 70.6+ MB\n"
     ]
    }
   ],
   "source": [
    "sales_data_wm.info()"
   ]
  },
  {
   "cell_type": "markdown",
   "metadata": {},
   "source": [
    "...so there are values of `SalePrice` for every row. But we don't want `0` values because they are likely to be property transfers, not actual sales.\n",
    " \n",
    "And don't want any really low values either, because they might be weird edge cases or data quality issues."
   ]
  },
  {
   "cell_type": "code",
   "execution_count": 192,
   "metadata": {},
   "outputs": [
    {
     "data": {
      "text/html": [
       "<div>\n",
       "<style scoped>\n",
       "    .dataframe tbody tr th:only-of-type {\n",
       "        vertical-align: middle;\n",
       "    }\n",
       "\n",
       "    .dataframe tbody tr th {\n",
       "        vertical-align: top;\n",
       "    }\n",
       "\n",
       "    .dataframe thead th {\n",
       "        text-align: right;\n",
       "    }\n",
       "</style>\n",
       "<table border=\"1\" class=\"dataframe\">\n",
       "  <thead>\n",
       "    <tr style=\"text-align: right;\">\n",
       "      <th></th>\n",
       "      <th>Major</th>\n",
       "      <th>Minor</th>\n",
       "      <th>SalePrice</th>\n",
       "      <th>SqFtTotLiving</th>\n",
       "    </tr>\n",
       "  </thead>\n",
       "  <tbody>\n",
       "    <tr>\n",
       "      <th>count</th>\n",
       "      <td>1.322148e+06</td>\n",
       "      <td>1.322148e+06</td>\n",
       "      <td>1.322148e+06</td>\n",
       "      <td>1.322148e+06</td>\n",
       "    </tr>\n",
       "    <tr>\n",
       "      <th>mean</th>\n",
       "      <td>4.477971e+05</td>\n",
       "      <td>1.588399e+03</td>\n",
       "      <td>2.826850e+05</td>\n",
       "      <td>2.088334e+03</td>\n",
       "    </tr>\n",
       "    <tr>\n",
       "      <th>std</th>\n",
       "      <td>2.862037e+05</td>\n",
       "      <td>2.872664e+03</td>\n",
       "      <td>7.451584e+05</td>\n",
       "      <td>9.663883e+02</td>\n",
       "    </tr>\n",
       "    <tr>\n",
       "      <th>min</th>\n",
       "      <td>4.000000e+01</td>\n",
       "      <td>1.000000e+00</td>\n",
       "      <td>-6.000000e+02</td>\n",
       "      <td>0.000000e+00</td>\n",
       "    </tr>\n",
       "    <tr>\n",
       "      <th>25%</th>\n",
       "      <td>2.021060e+05</td>\n",
       "      <td>1.160000e+02</td>\n",
       "      <td>0.000000e+00</td>\n",
       "      <td>1.430000e+03</td>\n",
       "    </tr>\n",
       "    <tr>\n",
       "      <th>50%</th>\n",
       "      <td>3.856900e+05</td>\n",
       "      <td>3.300000e+02</td>\n",
       "      <td>1.600000e+05</td>\n",
       "      <td>1.920000e+03</td>\n",
       "    </tr>\n",
       "    <tr>\n",
       "      <th>75%</th>\n",
       "      <td>7.227500e+05</td>\n",
       "      <td>1.040000e+03</td>\n",
       "      <td>3.450000e+05</td>\n",
       "      <td>2.540000e+03</td>\n",
       "    </tr>\n",
       "    <tr>\n",
       "      <th>max</th>\n",
       "      <td>9.906000e+05</td>\n",
       "      <td>9.689000e+03</td>\n",
       "      <td>3.000000e+07</td>\n",
       "      <td>4.816000e+04</td>\n",
       "    </tr>\n",
       "  </tbody>\n",
       "</table>\n",
       "</div>"
      ],
      "text/plain": [
       "              Major         Minor     SalePrice  SqFtTotLiving\n",
       "count  1.322148e+06  1.322148e+06  1.322148e+06   1.322148e+06\n",
       "mean   4.477971e+05  1.588399e+03  2.826850e+05   2.088334e+03\n",
       "std    2.862037e+05  2.872664e+03  7.451584e+05   9.663883e+02\n",
       "min    4.000000e+01  1.000000e+00 -6.000000e+02   0.000000e+00\n",
       "25%    2.021060e+05  1.160000e+02  0.000000e+00   1.430000e+03\n",
       "50%    3.856900e+05  3.300000e+02  1.600000e+05   1.920000e+03\n",
       "75%    7.227500e+05  1.040000e+03  3.450000e+05   2.540000e+03\n",
       "max    9.906000e+05  9.689000e+03  3.000000e+07   4.816000e+04"
      ]
     },
     "execution_count": 192,
     "metadata": {},
     "output_type": "execute_result"
    }
   ],
   "source": [
    "sales_data_wm.describe()"
   ]
  },
  {
   "cell_type": "markdown",
   "metadata": {},
   "source": [
    "So there is at least one negative sale price! And note that the 25th percentile is 0!\n",
    "\n",
    "Let's investigate the distribution of `SalePrice` a bit. But first let's at least get rid of the <=0's now."
   ]
  },
  {
   "cell_type": "code",
   "execution_count": 193,
   "metadata": {},
   "outputs": [
    {
     "name": "stdout",
     "output_type": "stream",
     "text": [
      "<class 'pandas.core.frame.DataFrame'>\n",
      "Int64Index: 867413 entries, 0 to 1437520\n",
      "Data columns (total 6 columns):\n",
      "Major            867413 non-null float64\n",
      "Minor            867413 non-null float64\n",
      "DocumentDate     867413 non-null object\n",
      "SalePrice        867413 non-null int64\n",
      "SqFtTotLiving    867413 non-null int64\n",
      "ZipCode          867413 non-null object\n",
      "dtypes: float64(2), int64(2), object(2)\n",
      "memory usage: 46.3+ MB\n"
     ]
    }
   ],
   "source": [
    "#Let's at least get rid of the zero sale prices now.\n",
    "sales_data_wm = sales_data_wm.loc[sales_data_wm['SalePrice'] > 0]\n",
    "sales_data_wm.info()"
   ]
  },
  {
   "cell_type": "markdown",
   "metadata": {},
   "source": [
    "Wow, that got rid of a lot of rows, down from 1.3M to 870K, not surprising because the 25th-ile was 0."
   ]
  },
  {
   "cell_type": "code",
   "execution_count": 194,
   "metadata": {},
   "outputs": [
    {
     "data": {
      "image/png": "[encoded data removed]",
      "text/plain": [
       "<Figure size 432x288 with 1 Axes>"
      ]
     },
     "metadata": {
      "needs_background": "light"
     },
     "output_type": "display_data"
    }
   ],
   "source": [
    "import matplotlib.pyplot as plt # Plotting\n",
    "%matplotlib inline\n",
    "\n",
    "fig, ax = plt.subplots()\n",
    "\n",
    "#ax.hist(sales_data_2['SalePrice'])\n",
    "ax.hist(sales_data_wm['SalePrice'], bins = 1000)\n",
    "plt.show()"
   ]
  },
  {
   "cell_type": "markdown",
   "metadata": {},
   "source": [
    "Wow, that's difficult to intrpret. LOL. Let's try transforming it."
   ]
  },
  {
   "cell_type": "code",
   "execution_count": 195,
   "metadata": {},
   "outputs": [
    {
     "data": {
      "image/png": "[encoded data removed]",
      "text/plain": [
       "<Figure size 432x288 with 1 Axes>"
      ]
     },
     "metadata": {
      "needs_background": "light"
     },
     "output_type": "display_data"
    }
   ],
   "source": [
    "import math\n",
    "fig, ax = plt.subplots()\n",
    "\n",
    "ax.hist(sales_data_wm['SalePrice'].map(math.log), bins = 1000)\n",
    "plt.show()"
   ]
  },
  {
   "cell_type": "markdown",
   "metadata": {},
   "source": [
    "Just by visual inspection I would say most of the distribution fall between 9 and 16, assuming normality. Why not? haha. So reverse engineering that back to `SalePrice`:"
   ]
  },
  {
   "cell_type": "code",
   "execution_count": 196,
   "metadata": {},
   "outputs": [
    {
     "name": "stdout",
     "output_type": "stream",
     "text": [
      "estimated low :$8,103.08\n",
      "estimated high:$8,886,110.52\n"
     ]
    }
   ],
   "source": [
    "print( 'estimated low :' + '${:,.2f}'.format(math.exp(9)))\n",
    "print( 'estimated high:' + '${:,.2f}'.format(math.exp(16)))\n",
    "#'${:,.2f}'.format(1234.5)"
   ]
  },
  {
   "cell_type": "markdown",
   "metadata": {},
   "source": [
    "Let's use some something close to these #'s to filter down our dataset.  \n",
    "Call it:\n",
    "- greater than or equal to 10K\n",
    "- lesser than or equal to 9M"
   ]
  },
  {
   "cell_type": "code",
   "execution_count": 197,
   "metadata": {},
   "outputs": [],
   "source": [
    "sales_data_wm = sales_data_wm.loc[ (sales_data_wm['SalePrice'] >= 10000) &\n",
    "                          (sales_data_wm['SalePrice']<=9000000) ]"
   ]
  },
  {
   "cell_type": "code",
   "execution_count": 198,
   "metadata": {},
   "outputs": [
    {
     "name": "stdout",
     "output_type": "stream",
     "text": [
      "<class 'pandas.core.frame.DataFrame'>\n",
      "Int64Index: 861028 entries, 0 to 1437520\n",
      "Data columns (total 6 columns):\n",
      "Major            861028 non-null float64\n",
      "Minor            861028 non-null float64\n",
      "DocumentDate     861028 non-null object\n",
      "SalePrice        861028 non-null int64\n",
      "SqFtTotLiving    861028 non-null int64\n",
      "ZipCode          861028 non-null object\n",
      "dtypes: float64(2), int64(2), object(2)\n",
      "memory usage: 46.0+ MB\n"
     ]
    }
   ],
   "source": [
    "sales_data_wm.info()"
   ]
  },
  {
   "cell_type": "markdown",
   "metadata": {},
   "source": [
    "Lost about 6K observations."
   ]
  },
  {
   "cell_type": "code",
   "execution_count": 200,
   "metadata": {},
   "outputs": [
    {
     "data": {
      "text/html": [
       "<div>\n",
       "<style scoped>\n",
       "    .dataframe tbody tr th:only-of-type {\n",
       "        vertical-align: middle;\n",
       "    }\n",
       "\n",
       "    .dataframe tbody tr th {\n",
       "        vertical-align: top;\n",
       "    }\n",
       "\n",
       "    .dataframe thead th {\n",
       "        text-align: right;\n",
       "    }\n",
       "</style>\n",
       "<table border=\"1\" class=\"dataframe\">\n",
       "  <thead>\n",
       "    <tr style=\"text-align: right;\">\n",
       "      <th></th>\n",
       "      <th>Major</th>\n",
       "      <th>Minor</th>\n",
       "      <th>SalePrice</th>\n",
       "      <th>SqFtTotLiving</th>\n",
       "    </tr>\n",
       "  </thead>\n",
       "  <tbody>\n",
       "    <tr>\n",
       "      <th>count</th>\n",
       "      <td>861028.000000</td>\n",
       "      <td>861028.000000</td>\n",
       "      <td>8.610280e+05</td>\n",
       "      <td>861028.000000</td>\n",
       "    </tr>\n",
       "    <tr>\n",
       "      <th>mean</th>\n",
       "      <td>452072.787161</td>\n",
       "      <td>1484.738020</td>\n",
       "      <td>4.010259e+05</td>\n",
       "      <td>2102.759035</td>\n",
       "    </tr>\n",
       "    <tr>\n",
       "      <th>std</th>\n",
       "      <td>286249.522976</td>\n",
       "      <td>2763.339929</td>\n",
       "      <td>5.308673e+05</td>\n",
       "      <td>947.310693</td>\n",
       "    </tr>\n",
       "    <tr>\n",
       "      <th>min</th>\n",
       "      <td>40.000000</td>\n",
       "      <td>1.000000</td>\n",
       "      <td>1.000000e+04</td>\n",
       "      <td>0.000000</td>\n",
       "    </tr>\n",
       "    <tr>\n",
       "      <th>25%</th>\n",
       "      <td>206110.000000</td>\n",
       "      <td>115.000000</td>\n",
       "      <td>1.650000e+05</td>\n",
       "      <td>1450.000000</td>\n",
       "    </tr>\n",
       "    <tr>\n",
       "      <th>50%</th>\n",
       "      <td>388580.000000</td>\n",
       "      <td>320.000000</td>\n",
       "      <td>2.764500e+05</td>\n",
       "      <td>1940.000000</td>\n",
       "    </tr>\n",
       "    <tr>\n",
       "      <th>75%</th>\n",
       "      <td>723730.000000</td>\n",
       "      <td>958.000000</td>\n",
       "      <td>4.500000e+05</td>\n",
       "      <td>2560.000000</td>\n",
       "    </tr>\n",
       "    <tr>\n",
       "      <th>max</th>\n",
       "      <td>990600.000000</td>\n",
       "      <td>9689.000000</td>\n",
       "      <td>9.000000e+06</td>\n",
       "      <td>48160.000000</td>\n",
       "    </tr>\n",
       "  </tbody>\n",
       "</table>\n",
       "</div>"
      ],
      "text/plain": [
       "               Major          Minor     SalePrice  SqFtTotLiving\n",
       "count  861028.000000  861028.000000  8.610280e+05  861028.000000\n",
       "mean   452072.787161    1484.738020  4.010259e+05    2102.759035\n",
       "std    286249.522976    2763.339929  5.308673e+05     947.310693\n",
       "min        40.000000       1.000000  1.000000e+04       0.000000\n",
       "25%    206110.000000     115.000000  1.650000e+05    1450.000000\n",
       "50%    388580.000000     320.000000  2.764500e+05    1940.000000\n",
       "75%    723730.000000     958.000000  4.500000e+05    2560.000000\n",
       "max    990600.000000    9689.000000  9.000000e+06   48160.000000"
      ]
     },
     "execution_count": 200,
     "metadata": {},
     "output_type": "execute_result"
    }
   ],
   "source": [
    "sales_data_wm.describe()"
   ]
  },
  {
   "cell_type": "markdown",
   "metadata": {},
   "source": [
    "So that cut down our dataset from 1.3M to about 860K. But also noticed that `SqFtTotLiving` also has a min of `0`. I think this is not in keeping with the process we are trying to indentify so will screen those out. Let's do a similar exercise."
   ]
  },
  {
   "cell_type": "code",
   "execution_count": 203,
   "metadata": {},
   "outputs": [
    {
     "data": {
      "image/png": "[encoded data removed]",
      "text/plain": [
       "<Figure size 432x288 with 1 Axes>"
      ]
     },
     "metadata": {
      "needs_background": "light"
     },
     "output_type": "display_data"
    }
   ],
   "source": [
    "fig, ax = plt.subplots()\n",
    "\n",
    "ax.hist(sales_data_wm['SqFtTotLiving'].loc[sales_data_wm['SqFtTotLiving']!=0].map(math.log),bins = 100)\n",
    "\n",
    "plt.show()"
   ]
  },
  {
   "cell_type": "markdown",
   "metadata": {},
   "source": [
    "Hmmm, let's go with 5.5 to 9"
   ]
  },
  {
   "cell_type": "code",
   "execution_count": 204,
   "metadata": {},
   "outputs": [
    {
     "name": "stdout",
     "output_type": "stream",
     "text": [
      "estimated low :245\n",
      "estimated high:8,103\n"
     ]
    }
   ],
   "source": [
    "print( 'estimated low :' + '{:,.0f}'.format(math.exp(5.5)))\n",
    "print( 'estimated high:' + '{:,.0f}'.format(math.exp(9)))\n",
    "#'${:,.2f}'.format(1234.5)"
   ]
  },
  {
   "cell_type": "markdown",
   "metadata": {},
   "source": [
    "I'll go with 200 and 8000"
   ]
  },
  {
   "cell_type": "code",
   "execution_count": 205,
   "metadata": {},
   "outputs": [],
   "source": [
    "sales_data_wm = sales_data_wm.loc[ (sales_data_wm['SqFtTotLiving'] >= 200) & \\\n",
    "                                (sales_data_wm['SqFtTotLiving'] <= 8000)]"
   ]
  },
  {
   "cell_type": "code",
   "execution_count": 206,
   "metadata": {},
   "outputs": [
    {
     "name": "stdout",
     "output_type": "stream",
     "text": [
      "<class 'pandas.core.frame.DataFrame'>\n",
      "Int64Index: 860340 entries, 0 to 1437520\n",
      "Data columns (total 6 columns):\n",
      "Major            860340 non-null float64\n",
      "Minor            860340 non-null float64\n",
      "DocumentDate     860340 non-null object\n",
      "SalePrice        860340 non-null int64\n",
      "SqFtTotLiving    860340 non-null int64\n",
      "ZipCode          860340 non-null object\n",
      "dtypes: float64(2), int64(2), object(2)\n",
      "memory usage: 45.9+ MB\n"
     ]
    }
   ],
   "source": [
    "sales_data_wm.info()"
   ]
  },
  {
   "cell_type": "markdown",
   "metadata": {},
   "source": [
    "That removed about another 1K."
   ]
  },
  {
   "cell_type": "code",
   "execution_count": 207,
   "metadata": {},
   "outputs": [
    {
     "data": {
      "text/html": [
       "<div>\n",
       "<style scoped>\n",
       "    .dataframe tbody tr th:only-of-type {\n",
       "        vertical-align: middle;\n",
       "    }\n",
       "\n",
       "    .dataframe tbody tr th {\n",
       "        vertical-align: top;\n",
       "    }\n",
       "\n",
       "    .dataframe thead th {\n",
       "        text-align: right;\n",
       "    }\n",
       "</style>\n",
       "<table border=\"1\" class=\"dataframe\">\n",
       "  <thead>\n",
       "    <tr style=\"text-align: right;\">\n",
       "      <th></th>\n",
       "      <th>Major</th>\n",
       "      <th>Minor</th>\n",
       "      <th>SalePrice</th>\n",
       "      <th>SqFtTotLiving</th>\n",
       "    </tr>\n",
       "  </thead>\n",
       "  <tbody>\n",
       "    <tr>\n",
       "      <th>count</th>\n",
       "      <td>860340.000000</td>\n",
       "      <td>860340.000000</td>\n",
       "      <td>8.603400e+05</td>\n",
       "      <td>860340.000000</td>\n",
       "    </tr>\n",
       "    <tr>\n",
       "      <th>mean</th>\n",
       "      <td>452146.100185</td>\n",
       "      <td>1483.179664</td>\n",
       "      <td>3.997408e+05</td>\n",
       "      <td>2097.259168</td>\n",
       "    </tr>\n",
       "    <tr>\n",
       "      <th>std</th>\n",
       "      <td>286259.948257</td>\n",
       "      <td>2761.359878</td>\n",
       "      <td>5.263066e+05</td>\n",
       "      <td>921.611910</td>\n",
       "    </tr>\n",
       "    <tr>\n",
       "      <th>min</th>\n",
       "      <td>40.000000</td>\n",
       "      <td>1.000000</td>\n",
       "      <td>1.000000e+04</td>\n",
       "      <td>200.000000</td>\n",
       "    </tr>\n",
       "    <tr>\n",
       "      <th>25%</th>\n",
       "      <td>206110.000000</td>\n",
       "      <td>115.000000</td>\n",
       "      <td>1.650000e+05</td>\n",
       "      <td>1450.000000</td>\n",
       "    </tr>\n",
       "    <tr>\n",
       "      <th>50%</th>\n",
       "      <td>388580.000000</td>\n",
       "      <td>320.000000</td>\n",
       "      <td>2.760000e+05</td>\n",
       "      <td>1940.000000</td>\n",
       "    </tr>\n",
       "    <tr>\n",
       "      <th>75%</th>\n",
       "      <td>723730.000000</td>\n",
       "      <td>955.000000</td>\n",
       "      <td>4.500000e+05</td>\n",
       "      <td>2560.000000</td>\n",
       "    </tr>\n",
       "    <tr>\n",
       "      <th>max</th>\n",
       "      <td>990600.000000</td>\n",
       "      <td>9689.000000</td>\n",
       "      <td>9.000000e+06</td>\n",
       "      <td>8000.000000</td>\n",
       "    </tr>\n",
       "  </tbody>\n",
       "</table>\n",
       "</div>"
      ],
      "text/plain": [
       "               Major          Minor     SalePrice  SqFtTotLiving\n",
       "count  860340.000000  860340.000000  8.603400e+05  860340.000000\n",
       "mean   452146.100185    1483.179664  3.997408e+05    2097.259168\n",
       "std    286259.948257    2761.359878  5.263066e+05     921.611910\n",
       "min        40.000000       1.000000  1.000000e+04     200.000000\n",
       "25%    206110.000000     115.000000  1.650000e+05    1450.000000\n",
       "50%    388580.000000     320.000000  2.760000e+05    1940.000000\n",
       "75%    723730.000000     955.000000  4.500000e+05    2560.000000\n",
       "max    990600.000000    9689.000000  9.000000e+06    8000.000000"
      ]
     },
     "execution_count": 207,
     "metadata": {},
     "output_type": "execute_result"
    }
   ],
   "source": [
    "sales_data_2.describe()"
   ]
  },
  {
   "cell_type": "markdown",
   "metadata": {},
   "source": [
    "No nulls, Value's don't seem unreasonable, at least in my own layman's experience (with regards to real estate).\n",
    "\n",
    "---\n",
    "---"
   ]
  },
  {
   "cell_type": "markdown",
   "metadata": {},
   "source": [
    "### 2. Investigate and handle non-numeric ZipCode values\n",
    "\n",
    "Can you find a way to shorten ZIP+4 codes to the first five digits?\n",
    "\n",
    "What's the right thing to do with missing values?"
   ]
  },
  {
   "cell_type": "code",
   "execution_count": 209,
   "metadata": {},
   "outputs": [
    {
     "data": {
      "text/plain": [
       "10168    98042-3001\n",
       "10169    98042-3001\n",
       "10170    98042-3001\n",
       "10171    98042-3001\n",
       "10172    98042-3001\n",
       "Name: ZipCode, dtype: object"
      ]
     },
     "execution_count": 209,
     "metadata": {},
     "output_type": "execute_result"
    }
   ],
   "source": [
    "# Read the error message and decide how to fix it.\n",
    "# Note: using errors='coerce' is the *wrong* choice in this case.\n",
    "def is_integer(x):\n",
    "    try:\n",
    "        _ = int(x)\n",
    "        #x == int(x)\n",
    "    except ValueError:\n",
    "        return False\n",
    "    return True\n",
    "\n",
    "sales_data.loc[sales_data['ZipCode'].apply(is_integer) == False, 'ZipCode'].head(5)\n"
   ]
  },
  {
   "cell_type": "code",
   "execution_count": 213,
   "metadata": {},
   "outputs": [
    {
     "data": {
      "text/plain": [
       "10168    98042-3001\n",
       "10169    98042-3001\n",
       "10170    98042-3001\n",
       "10171    98042-3001\n",
       "16528    98199-3014\n",
       "Name: ZipCode, dtype: object"
      ]
     },
     "execution_count": 213,
     "metadata": {},
     "output_type": "execute_result"
    }
   ],
   "source": [
    "# let's look at my own version of the data so far.\n",
    "\n",
    "sales_data_wm.loc[sales_data_wm['ZipCode'].apply(is_integer) == False, 'ZipCode'].head(5)"
   ]
  },
  {
   "cell_type": "markdown",
   "metadata": {},
   "source": [
    "Truncate the zip at 5 characters"
   ]
  },
  {
   "cell_type": "code",
   "execution_count": 220,
   "metadata": {},
   "outputs": [
    {
     "data": {
      "text/plain": [
       "0    98002\n",
       "1    98002\n",
       "2    98002\n",
       "6    98092\n",
       "7    98092\n",
       "Name: ZipCode, dtype: object"
      ]
     },
     "execution_count": 220,
     "metadata": {},
     "output_type": "execute_result"
    }
   ],
   "source": [
    "#sales_data = sales_data_2\n",
    "sales_data_wm['ZipCode'] = sales_data_wm['ZipCode'].apply(lambda x : str(x)[:5])\n",
    "sales_data_wm['ZipCode'].head()"
   ]
  },
  {
   "cell_type": "code",
   "execution_count": 221,
   "metadata": {},
   "outputs": [
    {
     "name": "stdout",
     "output_type": "stream",
     "text": [
      "<class 'pandas.core.frame.DataFrame'>\n",
      "Int64Index: 860340 entries, 0 to 1437520\n",
      "Data columns (total 6 columns):\n",
      "Major            860340 non-null float64\n",
      "Minor            860340 non-null float64\n",
      "DocumentDate     860340 non-null object\n",
      "SalePrice        860340 non-null int64\n",
      "SqFtTotLiving    860340 non-null int64\n",
      "ZipCode          860340 non-null object\n",
      "dtypes: float64(2), int64(2), object(2)\n",
      "memory usage: 45.9+ MB\n"
     ]
    }
   ],
   "source": [
    "sales_data_wm.info()"
   ]
  },
  {
   "cell_type": "code",
   "execution_count": 218,
   "metadata": {},
   "outputs": [
    {
     "data": {
      "text/plain": [
       "1437512    98177\n",
       "1437513    98155\n",
       "1437514    98022\n",
       "1437515    98008\n",
       "1437516    98116\n",
       "1437517    98059\n",
       "1437518    98008\n",
       "1437519    98077\n",
       "1437520    98027\n",
       "1437521    98155\n",
       "Name: ZipCode, dtype: object"
      ]
     },
     "execution_count": 218,
     "metadata": {},
     "output_type": "execute_result"
    }
   ],
   "source": [
    "sales_data['ZipCode'].tail(10)"
   ]
  },
  {
   "cell_type": "markdown",
   "metadata": {},
   "source": [
    "I'm curious about the distribution of these zips:"
   ]
  },
  {
   "cell_type": "code",
   "execution_count": 223,
   "metadata": {},
   "outputs": [
    {
     "data": {
      "text/plain": [
       "98042    27929\n",
       "98023    24310\n",
       "98115    23422\n",
       "98038    23197\n",
       "98052    21767\n",
       "98034    21468\n",
       "98006    20922\n",
       "98058    20514\n",
       "98103    19816\n",
       "98117    19802\n",
       "98118    19150\n",
       "98074    18187\n",
       "98133    17445\n",
       "98033    17325\n",
       "98001    16906\n",
       "98155    16626\n",
       "98059    16601\n",
       "98031    16279\n",
       "98092    15791\n",
       "98056    15529\n",
       "Name: ZipCode, dtype: int64"
      ]
     },
     "execution_count": 223,
     "metadata": {},
     "output_type": "execute_result"
    }
   ],
   "source": [
    "sales_data_wm['ZipCode'].value_counts().head(20)"
   ]
  },
  {
   "cell_type": "code",
   "execution_count": 225,
   "metadata": {},
   "outputs": [
    {
     "data": {
      "text/plain": [
       "9859.    2\n",
       "98       2\n",
       "9804     2\n",
       "98079    2\n",
       "95125    2\n",
       "98132    2\n",
       "98063    2\n",
       "28028    1\n",
       "98176    1\n",
       "98054    1\n",
       "98044    1\n",
       "90855    1\n",
       "98013    1\n",
       "99019    1\n",
       "98101    1\n",
       "B        1\n",
       "8126     1\n",
       "95055    1\n",
       "0        1\n",
       "95059    1\n",
       "Name: ZipCode, dtype: int64"
      ]
     },
     "execution_count": 225,
     "metadata": {},
     "output_type": "execute_result"
    }
   ],
   "source": [
    "sales_data_wm['ZipCode'].value_counts().tail(20)"
   ]
  },
  {
   "cell_type": "markdown",
   "metadata": {},
   "source": [
    "Notice that there's weird zips with letters or other characters, and some with only partial numeric chars."
   ]
  },
  {
   "cell_type": "code",
   "execution_count": 226,
   "metadata": {},
   "outputs": [],
   "source": [
    "#How do I \"extract\" zip code (US) from the following string?"
   ]
  },
  {
   "cell_type": "markdown",
   "metadata": {},
   "source": [
    "I've used reg-ex before, so think that might be best way to clean up the rest of the zips. I want remaining zips where all 5 characters are numbers.\n"
   ]
  },
  {
   "cell_type": "code",
   "execution_count": 227,
   "metadata": {},
   "outputs": [],
   "source": [
    "# Create a zip-code helper function\n",
    "import re\n",
    "\n",
    "def is_zip(might_be_zip_str):\n",
    "    \"\"\"Returns True if a zip code, else False\"\"\"\n",
    "    \n",
    "    # https://stackoverflow.com/questions/2577236/regex-for-zip-code\n",
    "    # I don't write regex, I merely SO->copy/paste it. haha\n",
    "    zip_match = re.match('[0-9]{5}(?:-[0-9]{4})?$', might_be_zip_str)\n",
    "    if zip_match:\n",
    "        return True\n",
    "    else:\n",
    "        return False"
   ]
  },
  {
   "cell_type": "markdown",
   "metadata": {},
   "source": [
    "Start testing!"
   ]
  },
  {
   "cell_type": "code",
   "execution_count": 229,
   "metadata": {},
   "outputs": [
    {
     "name": "stdout",
     "output_type": "stream",
     "text": [
      "True\n",
      "False\n",
      "False\n",
      "True\n"
     ]
    }
   ],
   "source": [
    "# 99999 True\n",
    "print(is_zip('99999'))\n",
    "\n",
    "#99-99 False\n",
    "print(is_zip('99-99'))\n",
    "\n",
    "#A - False\n",
    "print(is_zip('A'))\n",
    "\n",
    "#99999-9999 True\n",
    "print(is_zip('99999-9999'))"
   ]
  },
  {
   "cell_type": "code",
   "execution_count": 230,
   "metadata": {},
   "outputs": [
    {
     "data": {
      "text/html": [
       "<div>\n",
       "<style scoped>\n",
       "    .dataframe tbody tr th:only-of-type {\n",
       "        vertical-align: middle;\n",
       "    }\n",
       "\n",
       "    .dataframe tbody tr th {\n",
       "        vertical-align: top;\n",
       "    }\n",
       "\n",
       "    .dataframe thead th {\n",
       "        text-align: right;\n",
       "    }\n",
       "</style>\n",
       "<table border=\"1\" class=\"dataframe\">\n",
       "  <thead>\n",
       "    <tr style=\"text-align: right;\">\n",
       "      <th></th>\n",
       "      <th>Major</th>\n",
       "      <th>Minor</th>\n",
       "      <th>DocumentDate</th>\n",
       "      <th>SalePrice</th>\n",
       "      <th>SqFtTotLiving</th>\n",
       "      <th>ZipCode</th>\n",
       "    </tr>\n",
       "  </thead>\n",
       "  <tbody>\n",
       "    <tr>\n",
       "      <th>0</th>\n",
       "      <td>138860.0</td>\n",
       "      <td>110.0</td>\n",
       "      <td>08/21/2014</td>\n",
       "      <td>245000</td>\n",
       "      <td>1490</td>\n",
       "      <td>98002</td>\n",
       "    </tr>\n",
       "    <tr>\n",
       "      <th>1</th>\n",
       "      <td>138860.0</td>\n",
       "      <td>110.0</td>\n",
       "      <td>06/12/1989</td>\n",
       "      <td>109300</td>\n",
       "      <td>1490</td>\n",
       "      <td>98002</td>\n",
       "    </tr>\n",
       "    <tr>\n",
       "      <th>2</th>\n",
       "      <td>138860.0</td>\n",
       "      <td>110.0</td>\n",
       "      <td>01/16/2005</td>\n",
       "      <td>14684</td>\n",
       "      <td>1490</td>\n",
       "      <td>98002</td>\n",
       "    </tr>\n",
       "    <tr>\n",
       "      <th>6</th>\n",
       "      <td>423943.0</td>\n",
       "      <td>50.0</td>\n",
       "      <td>07/15/1999</td>\n",
       "      <td>96000</td>\n",
       "      <td>960</td>\n",
       "      <td>98092</td>\n",
       "    </tr>\n",
       "    <tr>\n",
       "      <th>7</th>\n",
       "      <td>423943.0</td>\n",
       "      <td>50.0</td>\n",
       "      <td>01/08/2001</td>\n",
       "      <td>127500</td>\n",
       "      <td>960</td>\n",
       "      <td>98092</td>\n",
       "    </tr>\n",
       "  </tbody>\n",
       "</table>\n",
       "</div>"
      ],
      "text/plain": [
       "      Major  Minor DocumentDate  SalePrice  SqFtTotLiving ZipCode\n",
       "0  138860.0  110.0   08/21/2014     245000           1490   98002\n",
       "1  138860.0  110.0   06/12/1989     109300           1490   98002\n",
       "2  138860.0  110.0   01/16/2005      14684           1490   98002\n",
       "6  423943.0   50.0   07/15/1999      96000            960   98092\n",
       "7  423943.0   50.0   01/08/2001     127500            960   98092"
      ]
     },
     "execution_count": 230,
     "metadata": {},
     "output_type": "execute_result"
    }
   ],
   "source": [
    "sales_data_wm = sales_data_wm.loc[ sales_data_wm['ZipCode'].apply(is_zip), : ]\n",
    "sales_data_wm.head()"
   ]
  },
  {
   "cell_type": "code",
   "execution_count": 231,
   "metadata": {},
   "outputs": [
    {
     "data": {
      "text/plain": [
       "98042    27929\n",
       "98023    24310\n",
       "98115    23422\n",
       "98038    23197\n",
       "98052    21767\n",
       "98034    21468\n",
       "98006    20922\n",
       "98058    20514\n",
       "98103    19816\n",
       "98117    19802\n",
       "98118    19150\n",
       "98074    18187\n",
       "98133    17445\n",
       "98033    17325\n",
       "98001    16906\n",
       "98155    16626\n",
       "98059    16601\n",
       "98031    16279\n",
       "98092    15791\n",
       "98056    15529\n",
       "98125    14795\n",
       "98003    14221\n",
       "98168    14140\n",
       "98075    13364\n",
       "98198    12778\n",
       "98030    12701\n",
       "98178    12412\n",
       "98053    12298\n",
       "98027    12138\n",
       "98106    12116\n",
       "         ...  \n",
       "98121        5\n",
       "98083        4\n",
       "98097        4\n",
       "98035        4\n",
       "98043        3\n",
       "98189        3\n",
       "98157        3\n",
       "90055        3\n",
       "98017        3\n",
       "90108        3\n",
       "98021        2\n",
       "98025        2\n",
       "98026        2\n",
       "98302        2\n",
       "98111        2\n",
       "98204        2\n",
       "98079        2\n",
       "95125        2\n",
       "98132        2\n",
       "98063        2\n",
       "98176        1\n",
       "28028        1\n",
       "95055        1\n",
       "98044        1\n",
       "90855        1\n",
       "98101        1\n",
       "98054        1\n",
       "99019        1\n",
       "98013        1\n",
       "95059        1\n",
       "Name: ZipCode, Length: 115, dtype: int64"
      ]
     },
     "execution_count": 231,
     "metadata": {},
     "output_type": "execute_result"
    }
   ],
   "source": [
    "sales_data_wm['ZipCode'].value_counts()"
   ]
  },
  {
   "cell_type": "code",
   "execution_count": 232,
   "metadata": {},
   "outputs": [
    {
     "name": "stdout",
     "output_type": "stream",
     "text": [
      "<class 'pandas.core.frame.DataFrame'>\n",
      "Int64Index: 860319 entries, 0 to 1437520\n",
      "Data columns (total 6 columns):\n",
      "Major            860319 non-null float64\n",
      "Minor            860319 non-null float64\n",
      "DocumentDate     860319 non-null object\n",
      "SalePrice        860319 non-null int64\n",
      "SqFtTotLiving    860319 non-null int64\n",
      "ZipCode          860319 non-null object\n",
      "dtypes: float64(2), int64(2), object(2)\n",
      "memory usage: 45.9+ MB\n"
     ]
    }
   ],
   "source": [
    "sales_data_wm.info()"
   ]
  },
  {
   "cell_type": "markdown",
   "metadata": {},
   "source": [
    "Doesn't look like it was many, but it got rid of them!\n",
    "\n",
    "---\n",
    "---"
   ]
  },
  {
   "cell_type": "markdown",
   "metadata": {},
   "source": [
    "### 3. Add a column for PricePerSqFt"
   ]
  },
  {
   "cell_type": "code",
   "execution_count": 261,
   "metadata": {},
   "outputs": [
    {
     "name": "stdout",
     "output_type": "stream",
     "text": [
      "<class 'pandas.core.frame.DataFrame'>\n",
      "Int64Index: 3599 entries, 605 to 1437220\n",
      "Data columns (total 8 columns):\n",
      "Major              3599 non-null float64\n",
      "Minor              3599 non-null float64\n",
      "DocumentDate       3599 non-null object\n",
      "SalePrice          3599 non-null int64\n",
      "SqFtTotLiving      3599 non-null int64\n",
      "ZipCode            3599 non-null object\n",
      "PricePerSqFt       3599 non-null float64\n",
      "DocumentDateUse    3599 non-null datetime64[ns]\n",
      "dtypes: datetime64[ns](1), float64(3), int64(2), object(2)\n",
      "memory usage: 253.1+ KB\n"
     ]
    }
   ],
   "source": [
    "sales_data_wm['PricePerSqFt'] = sales_data_wm['SalePrice'] / sales_data_wm['SqFtTotLiving']\n",
    "sales_data_wm.info()"
   ]
  },
  {
   "cell_type": "code",
   "execution_count": 275,
   "metadata": {},
   "outputs": [
    {
     "data": {
      "text/html": [
       "<div>\n",
       "<style scoped>\n",
       "    .dataframe tbody tr th:only-of-type {\n",
       "        vertical-align: middle;\n",
       "    }\n",
       "\n",
       "    .dataframe tbody tr th {\n",
       "        vertical-align: top;\n",
       "    }\n",
       "\n",
       "    .dataframe thead th {\n",
       "        text-align: right;\n",
       "    }\n",
       "</style>\n",
       "<table border=\"1\" class=\"dataframe\">\n",
       "  <thead>\n",
       "    <tr style=\"text-align: right;\">\n",
       "      <th></th>\n",
       "      <th>Major</th>\n",
       "      <th>Minor</th>\n",
       "      <th>DocumentDate</th>\n",
       "      <th>SalePrice</th>\n",
       "      <th>SqFtTotLiving</th>\n",
       "      <th>ZipCode</th>\n",
       "      <th>PricePerSqFt</th>\n",
       "    </tr>\n",
       "  </thead>\n",
       "  <tbody>\n",
       "    <tr>\n",
       "      <th>0</th>\n",
       "      <td>138860.0</td>\n",
       "      <td>110.0</td>\n",
       "      <td>08/21/2014</td>\n",
       "      <td>245000</td>\n",
       "      <td>1490</td>\n",
       "      <td>98002</td>\n",
       "      <td>164.429530</td>\n",
       "    </tr>\n",
       "    <tr>\n",
       "      <th>1</th>\n",
       "      <td>138860.0</td>\n",
       "      <td>110.0</td>\n",
       "      <td>06/12/1989</td>\n",
       "      <td>109300</td>\n",
       "      <td>1490</td>\n",
       "      <td>98002</td>\n",
       "      <td>73.355705</td>\n",
       "    </tr>\n",
       "    <tr>\n",
       "      <th>2</th>\n",
       "      <td>138860.0</td>\n",
       "      <td>110.0</td>\n",
       "      <td>01/16/2005</td>\n",
       "      <td>14684</td>\n",
       "      <td>1490</td>\n",
       "      <td>98002</td>\n",
       "      <td>9.855034</td>\n",
       "    </tr>\n",
       "    <tr>\n",
       "      <th>6</th>\n",
       "      <td>423943.0</td>\n",
       "      <td>50.0</td>\n",
       "      <td>07/15/1999</td>\n",
       "      <td>96000</td>\n",
       "      <td>960</td>\n",
       "      <td>98092</td>\n",
       "      <td>100.000000</td>\n",
       "    </tr>\n",
       "    <tr>\n",
       "      <th>7</th>\n",
       "      <td>423943.0</td>\n",
       "      <td>50.0</td>\n",
       "      <td>01/08/2001</td>\n",
       "      <td>127500</td>\n",
       "      <td>960</td>\n",
       "      <td>98092</td>\n",
       "      <td>132.812500</td>\n",
       "    </tr>\n",
       "  </tbody>\n",
       "</table>\n",
       "</div>"
      ],
      "text/plain": [
       "      Major  Minor DocumentDate  SalePrice  SqFtTotLiving ZipCode  \\\n",
       "0  138860.0  110.0   08/21/2014     245000           1490   98002   \n",
       "1  138860.0  110.0   06/12/1989     109300           1490   98002   \n",
       "2  138860.0  110.0   01/16/2005      14684           1490   98002   \n",
       "6  423943.0   50.0   07/15/1999      96000            960   98092   \n",
       "7  423943.0   50.0   01/08/2001     127500            960   98092   \n",
       "\n",
       "   PricePerSqFt  \n",
       "0    164.429530  \n",
       "1     73.355705  \n",
       "2      9.855034  \n",
       "6    100.000000  \n",
       "7    132.812500  "
      ]
     },
     "execution_count": 275,
     "metadata": {},
     "output_type": "execute_result"
    }
   ],
   "source": [
    "sales_data.head()"
   ]
  },
  {
   "cell_type": "code",
   "execution_count": 234,
   "metadata": {},
   "outputs": [
    {
     "data": {
      "text/html": [
       "<div>\n",
       "<style scoped>\n",
       "    .dataframe tbody tr th:only-of-type {\n",
       "        vertical-align: middle;\n",
       "    }\n",
       "\n",
       "    .dataframe tbody tr th {\n",
       "        vertical-align: top;\n",
       "    }\n",
       "\n",
       "    .dataframe thead th {\n",
       "        text-align: right;\n",
       "    }\n",
       "</style>\n",
       "<table border=\"1\" class=\"dataframe\">\n",
       "  <thead>\n",
       "    <tr style=\"text-align: right;\">\n",
       "      <th></th>\n",
       "      <th>Major</th>\n",
       "      <th>Minor</th>\n",
       "      <th>DocumentDate</th>\n",
       "      <th>SalePrice</th>\n",
       "      <th>SqFtTotLiving</th>\n",
       "      <th>ZipCode</th>\n",
       "      <th>PricePerSqFt</th>\n",
       "    </tr>\n",
       "  </thead>\n",
       "  <tbody>\n",
       "    <tr>\n",
       "      <th>1437510</th>\n",
       "      <td>11410.0</td>\n",
       "      <td>629.0</td>\n",
       "      <td>01/26/1998</td>\n",
       "      <td>171000</td>\n",
       "      <td>730</td>\n",
       "      <td>98028</td>\n",
       "      <td>234.246575</td>\n",
       "    </tr>\n",
       "    <tr>\n",
       "      <th>1437511</th>\n",
       "      <td>568000.0</td>\n",
       "      <td>570.0</td>\n",
       "      <td>01/09/2013</td>\n",
       "      <td>400000</td>\n",
       "      <td>2120</td>\n",
       "      <td>98108</td>\n",
       "      <td>188.679245</td>\n",
       "    </tr>\n",
       "    <tr>\n",
       "      <th>1437512</th>\n",
       "      <td>944230.0</td>\n",
       "      <td>10.0</td>\n",
       "      <td>10/01/2001</td>\n",
       "      <td>280000</td>\n",
       "      <td>2530</td>\n",
       "      <td>98177</td>\n",
       "      <td>110.671937</td>\n",
       "    </tr>\n",
       "    <tr>\n",
       "      <th>1437513</th>\n",
       "      <td>797990.0</td>\n",
       "      <td>510.0</td>\n",
       "      <td>09/27/1985</td>\n",
       "      <td>62000</td>\n",
       "      <td>1730</td>\n",
       "      <td>98155</td>\n",
       "      <td>35.838150</td>\n",
       "    </tr>\n",
       "    <tr>\n",
       "      <th>1437514</th>\n",
       "      <td>42007.0</td>\n",
       "      <td>9047.0</td>\n",
       "      <td>03/09/1988</td>\n",
       "      <td>86000</td>\n",
       "      <td>1990</td>\n",
       "      <td>98022</td>\n",
       "      <td>43.216080</td>\n",
       "    </tr>\n",
       "    <tr>\n",
       "      <th>1437515</th>\n",
       "      <td>386510.0</td>\n",
       "      <td>80.0</td>\n",
       "      <td>09/22/2003</td>\n",
       "      <td>559950</td>\n",
       "      <td>2780</td>\n",
       "      <td>98008</td>\n",
       "      <td>201.420863</td>\n",
       "    </tr>\n",
       "    <tr>\n",
       "      <th>1437516</th>\n",
       "      <td>782870.0</td>\n",
       "      <td>70.0</td>\n",
       "      <td>09/09/1985</td>\n",
       "      <td>78000</td>\n",
       "      <td>1400</td>\n",
       "      <td>98116</td>\n",
       "      <td>55.714286</td>\n",
       "    </tr>\n",
       "    <tr>\n",
       "      <th>1437517</th>\n",
       "      <td>947794.0</td>\n",
       "      <td>320.0</td>\n",
       "      <td>02/22/2002</td>\n",
       "      <td>331681</td>\n",
       "      <td>3010</td>\n",
       "      <td>98059</td>\n",
       "      <td>110.193023</td>\n",
       "    </tr>\n",
       "    <tr>\n",
       "      <th>1437519</th>\n",
       "      <td>721470.0</td>\n",
       "      <td>820.0</td>\n",
       "      <td>04/15/2005</td>\n",
       "      <td>484950</td>\n",
       "      <td>2620</td>\n",
       "      <td>98077</td>\n",
       "      <td>185.095420</td>\n",
       "    </tr>\n",
       "    <tr>\n",
       "      <th>1437520</th>\n",
       "      <td>235430.0</td>\n",
       "      <td>782.0</td>\n",
       "      <td>06/01/1984</td>\n",
       "      <td>85000</td>\n",
       "      <td>1500</td>\n",
       "      <td>98027</td>\n",
       "      <td>56.666667</td>\n",
       "    </tr>\n",
       "  </tbody>\n",
       "</table>\n",
       "</div>"
      ],
      "text/plain": [
       "            Major   Minor DocumentDate  SalePrice  SqFtTotLiving ZipCode  \\\n",
       "1437510   11410.0   629.0   01/26/1998     171000            730   98028   \n",
       "1437511  568000.0   570.0   01/09/2013     400000           2120   98108   \n",
       "1437512  944230.0    10.0   10/01/2001     280000           2530   98177   \n",
       "1437513  797990.0   510.0   09/27/1985      62000           1730   98155   \n",
       "1437514   42007.0  9047.0   03/09/1988      86000           1990   98022   \n",
       "1437515  386510.0    80.0   09/22/2003     559950           2780   98008   \n",
       "1437516  782870.0    70.0   09/09/1985      78000           1400   98116   \n",
       "1437517  947794.0   320.0   02/22/2002     331681           3010   98059   \n",
       "1437519  721470.0   820.0   04/15/2005     484950           2620   98077   \n",
       "1437520  235430.0   782.0   06/01/1984      85000           1500   98027   \n",
       "\n",
       "         PricePerSqFt  \n",
       "1437510    234.246575  \n",
       "1437511    188.679245  \n",
       "1437512    110.671937  \n",
       "1437513     35.838150  \n",
       "1437514     43.216080  \n",
       "1437515    201.420863  \n",
       "1437516     55.714286  \n",
       "1437517    110.193023  \n",
       "1437519    185.095420  \n",
       "1437520     56.666667  "
      ]
     },
     "execution_count": 234,
     "metadata": {},
     "output_type": "execute_result"
    }
   ],
   "source": [
    "sales_data_wm.tail(10)"
   ]
  },
  {
   "cell_type": "markdown",
   "metadata": {},
   "source": [
    "I'm curious as to whether the price per sq ft smells right. Maybe try to plot the distribution."
   ]
  },
  {
   "cell_type": "code",
   "execution_count": 248,
   "metadata": {},
   "outputs": [
    {
     "data": {
      "image/png": "[encoded data removed]",
      "text/plain": [
       "<Figure size 432x288 with 2 Axes>"
      ]
     },
     "metadata": {
      "needs_background": "light"
     },
     "output_type": "display_data"
    }
   ],
   "source": [
    "fig, ax = plt.subplots(1,2)\n",
    "\n",
    "ax[0].hist(sales_data_wm['PricePerSqFt'], bins = 500)\n",
    "ax[1].hist(sales_data_wm['PricePerSqFt'].map(math.log), bins = 500)\n",
    "\n",
    "plt.show()"
   ]
  },
  {
   "cell_type": "code",
   "execution_count": 260,
   "metadata": {},
   "outputs": [
    {
     "data": {
      "text/plain": [
       "count     3599.000000\n",
       "mean       404.288978\n",
       "std        431.226063\n",
       "min          3.333333\n",
       "25%        238.525375\n",
       "50%        340.909091\n",
       "75%        470.948987\n",
       "max      13255.813953\n",
       "Name: PricePerSqFt, dtype: float64"
      ]
     },
     "execution_count": 260,
     "metadata": {},
     "output_type": "execute_result"
    }
   ],
   "source": [
    "sales_data_wm['PricePerSqFt'].describe()"
   ]
  },
  {
   "cell_type": "markdown",
   "metadata": {},
   "source": [
    "Seems ok for now. Also keep in mind we are not inflation adjusting these values."
   ]
  },
  {
   "cell_type": "markdown",
   "metadata": {},
   "source": [
    "### 4. Subset the data to 2019 sales only.\n",
    "\n",
    "We can assume that the DocumentDate is approximately the sale date."
   ]
  },
  {
   "cell_type": "markdown",
   "metadata": {},
   "source": [
    "Create a column with properly formatted date."
   ]
  },
  {
   "cell_type": "code",
   "execution_count": 251,
   "metadata": {},
   "outputs": [
    {
     "data": {
      "text/plain": [
       "Index(['Major', 'Minor', 'DocumentDate', 'SalePrice', 'SqFtTotLiving',\n",
       "       'ZipCode', 'PricePerSqFt'],\n",
       "      dtype='object')"
      ]
     },
     "execution_count": 251,
     "metadata": {},
     "output_type": "execute_result"
    }
   ],
   "source": [
    "sales_data_wm.columns"
   ]
  },
  {
   "cell_type": "code",
   "execution_count": 252,
   "metadata": {},
   "outputs": [
    {
     "data": {
      "text/plain": [
       "06/10/2004    298\n",
       "06/24/2004    278\n",
       "05/24/2004    275\n",
       "07/25/2001    275\n",
       "06/28/2004    267\n",
       "06/20/2005    264\n",
       "05/25/2004    259\n",
       "06/23/2004    255\n",
       "04/27/2004    254\n",
       "06/21/2004    254\n",
       "10/07/2002    251\n",
       "07/25/2005    251\n",
       "08/26/2003    250\n",
       "08/25/1999    248\n",
       "06/23/2003    246\n",
       "06/18/2003    244\n",
       "05/25/1999    243\n",
       "06/24/1998    243\n",
       "04/26/2004    242\n",
       "05/26/2004    240\n",
       "04/26/1994    240\n",
       "12/14/2001    239\n",
       "05/27/2004    239\n",
       "06/25/2004    238\n",
       "12/12/2001    237\n",
       "06/23/1998    237\n",
       "05/24/2005    237\n",
       "08/25/2004    235\n",
       "06/22/2004    235\n",
       "07/22/2002    235\n",
       "             ... \n",
       "12/23/2018      1\n",
       "08/19/1984      1\n",
       "09/04/2010      1\n",
       "07/11/1999      1\n",
       "06/21/1987      1\n",
       "03/21/1993      1\n",
       "11/26/2015      1\n",
       "09/30/1989      1\n",
       "04/18/1987      1\n",
       "07/04/1990      1\n",
       "01/17/1993      1\n",
       "09/21/1985      1\n",
       "12/16/1995      1\n",
       "12/12/2009      1\n",
       "11/08/2008      1\n",
       "12/04/1994      1\n",
       "01/01/2010      1\n",
       "04/22/1984      1\n",
       "01/16/1972      1\n",
       "05/25/2008      1\n",
       "02/07/1980      1\n",
       "02/25/1989      1\n",
       "04/04/2010      1\n",
       "12/08/1981      1\n",
       "12/31/1995      1\n",
       "06/03/2007      1\n",
       "01/25/2009      1\n",
       "07/31/1983      1\n",
       "12/29/1996      1\n",
       "01/02/2010      1\n",
       "Name: DocumentDate, Length: 13007, dtype: int64"
      ]
     },
     "execution_count": 252,
     "metadata": {},
     "output_type": "execute_result"
    }
   ],
   "source": [
    "#Look at the dates.\n",
    "sales_data_wm['DocumentDate'].value_counts()"
   ]
  },
  {
   "cell_type": "markdown",
   "metadata": {},
   "source": [
    "Seems Ok? Let's try converting to date."
   ]
  },
  {
   "cell_type": "code",
   "execution_count": 253,
   "metadata": {},
   "outputs": [],
   "source": [
    "sales_data_wm['DocumentDateUse'] = pd.to_datetime(sales_data_wm['DocumentDate'])"
   ]
  },
  {
   "cell_type": "code",
   "execution_count": 254,
   "metadata": {},
   "outputs": [
    {
     "name": "stdout",
     "output_type": "stream",
     "text": [
      "<class 'pandas.core.frame.DataFrame'>\n",
      "Int64Index: 860319 entries, 0 to 1437520\n",
      "Data columns (total 8 columns):\n",
      "Major              860319 non-null float64\n",
      "Minor              860319 non-null float64\n",
      "DocumentDate       860319 non-null object\n",
      "SalePrice          860319 non-null int64\n",
      "SqFtTotLiving      860319 non-null int64\n",
      "ZipCode            860319 non-null object\n",
      "PricePerSqFt       860319 non-null float64\n",
      "DocumentDateUse    860319 non-null datetime64[ns]\n",
      "dtypes: datetime64[ns](1), float64(3), int64(2), object(2)\n",
      "memory usage: 59.1+ MB\n"
     ]
    }
   ],
   "source": [
    "sales_data_wm.info()"
   ]
  },
  {
   "cell_type": "code",
   "execution_count": 255,
   "metadata": {},
   "outputs": [],
   "source": [
    "# OK, now subset by year = 2019\n",
    "sales_data_wm = sales_data_wm[ sales_data_wm['DocumentDateUse'].dt.year == 2019 ]"
   ]
  },
  {
   "cell_type": "code",
   "execution_count": 256,
   "metadata": {},
   "outputs": [
    {
     "data": {
      "text/html": [
       "<div>\n",
       "<style scoped>\n",
       "    .dataframe tbody tr th:only-of-type {\n",
       "        vertical-align: middle;\n",
       "    }\n",
       "\n",
       "    .dataframe tbody tr th {\n",
       "        vertical-align: top;\n",
       "    }\n",
       "\n",
       "    .dataframe thead th {\n",
       "        text-align: right;\n",
       "    }\n",
       "</style>\n",
       "<table border=\"1\" class=\"dataframe\">\n",
       "  <thead>\n",
       "    <tr style=\"text-align: right;\">\n",
       "      <th></th>\n",
       "      <th>Major</th>\n",
       "      <th>Minor</th>\n",
       "      <th>DocumentDate</th>\n",
       "      <th>SalePrice</th>\n",
       "      <th>SqFtTotLiving</th>\n",
       "      <th>ZipCode</th>\n",
       "      <th>PricePerSqFt</th>\n",
       "      <th>DocumentDateUse</th>\n",
       "    </tr>\n",
       "  </thead>\n",
       "  <tbody>\n",
       "    <tr>\n",
       "      <th>605</th>\n",
       "      <td>214090.0</td>\n",
       "      <td>110.0</td>\n",
       "      <td>03/06/2019</td>\n",
       "      <td>390000</td>\n",
       "      <td>1780</td>\n",
       "      <td>98042</td>\n",
       "      <td>219.101124</td>\n",
       "      <td>2019-03-06</td>\n",
       "    </tr>\n",
       "    <tr>\n",
       "      <th>651</th>\n",
       "      <td>367890.0</td>\n",
       "      <td>30.0</td>\n",
       "      <td>03/13/2019</td>\n",
       "      <td>923000</td>\n",
       "      <td>2550</td>\n",
       "      <td>98144</td>\n",
       "      <td>361.960784</td>\n",
       "      <td>2019-03-13</td>\n",
       "    </tr>\n",
       "    <tr>\n",
       "      <th>868</th>\n",
       "      <td>350160.0</td>\n",
       "      <td>125.0</td>\n",
       "      <td>02/06/2019</td>\n",
       "      <td>935000</td>\n",
       "      <td>2460</td>\n",
       "      <td>98117</td>\n",
       "      <td>380.081301</td>\n",
       "      <td>2019-02-06</td>\n",
       "    </tr>\n",
       "    <tr>\n",
       "      <th>1063</th>\n",
       "      <td>882790.0</td>\n",
       "      <td>870.0</td>\n",
       "      <td>02/15/2019</td>\n",
       "      <td>890000</td>\n",
       "      <td>2380</td>\n",
       "      <td>98105</td>\n",
       "      <td>373.949580</td>\n",
       "      <td>2019-02-15</td>\n",
       "    </tr>\n",
       "    <tr>\n",
       "      <th>1341</th>\n",
       "      <td>30200.0</td>\n",
       "      <td>645.0</td>\n",
       "      <td>03/04/2019</td>\n",
       "      <td>380000</td>\n",
       "      <td>1750</td>\n",
       "      <td>98001</td>\n",
       "      <td>217.142857</td>\n",
       "      <td>2019-03-04</td>\n",
       "    </tr>\n",
       "  </tbody>\n",
       "</table>\n",
       "</div>"
      ],
      "text/plain": [
       "         Major  Minor DocumentDate  SalePrice  SqFtTotLiving ZipCode  \\\n",
       "605   214090.0  110.0   03/06/2019     390000           1780   98042   \n",
       "651   367890.0   30.0   03/13/2019     923000           2550   98144   \n",
       "868   350160.0  125.0   02/06/2019     935000           2460   98117   \n",
       "1063  882790.0  870.0   02/15/2019     890000           2380   98105   \n",
       "1341   30200.0  645.0   03/04/2019     380000           1750   98001   \n",
       "\n",
       "      PricePerSqFt DocumentDateUse  \n",
       "605     219.101124      2019-03-06  \n",
       "651     361.960784      2019-03-13  \n",
       "868     380.081301      2019-02-06  \n",
       "1063    373.949580      2019-02-15  \n",
       "1341    217.142857      2019-03-04  "
      ]
     },
     "execution_count": 256,
     "metadata": {},
     "output_type": "execute_result"
    }
   ],
   "source": [
    "sales_data_wm.head()"
   ]
  },
  {
   "cell_type": "code",
   "execution_count": 257,
   "metadata": {},
   "outputs": [
    {
     "data": {
      "text/html": [
       "<div>\n",
       "<style scoped>\n",
       "    .dataframe tbody tr th:only-of-type {\n",
       "        vertical-align: middle;\n",
       "    }\n",
       "\n",
       "    .dataframe tbody tr th {\n",
       "        vertical-align: top;\n",
       "    }\n",
       "\n",
       "    .dataframe thead th {\n",
       "        text-align: right;\n",
       "    }\n",
       "</style>\n",
       "<table border=\"1\" class=\"dataframe\">\n",
       "  <thead>\n",
       "    <tr style=\"text-align: right;\">\n",
       "      <th></th>\n",
       "      <th>Major</th>\n",
       "      <th>Minor</th>\n",
       "      <th>DocumentDate</th>\n",
       "      <th>SalePrice</th>\n",
       "      <th>SqFtTotLiving</th>\n",
       "      <th>ZipCode</th>\n",
       "      <th>PricePerSqFt</th>\n",
       "      <th>DocumentDateUse</th>\n",
       "    </tr>\n",
       "  </thead>\n",
       "  <tbody>\n",
       "    <tr>\n",
       "      <th>1432030</th>\n",
       "      <td>277660.0</td>\n",
       "      <td>116.0</td>\n",
       "      <td>03/18/2019</td>\n",
       "      <td>740000</td>\n",
       "      <td>1510</td>\n",
       "      <td>98117</td>\n",
       "      <td>490.066225</td>\n",
       "      <td>2019-03-18</td>\n",
       "    </tr>\n",
       "    <tr>\n",
       "      <th>1432844</th>\n",
       "      <td>357480.0</td>\n",
       "      <td>970.0</td>\n",
       "      <td>02/22/2019</td>\n",
       "      <td>595000</td>\n",
       "      <td>2300</td>\n",
       "      <td>98034</td>\n",
       "      <td>258.695652</td>\n",
       "      <td>2019-02-22</td>\n",
       "    </tr>\n",
       "    <tr>\n",
       "      <th>1433315</th>\n",
       "      <td>92304.0</td>\n",
       "      <td>9521.0</td>\n",
       "      <td>01/17/2019</td>\n",
       "      <td>562500</td>\n",
       "      <td>2450</td>\n",
       "      <td>98168</td>\n",
       "      <td>229.591837</td>\n",
       "      <td>2019-01-17</td>\n",
       "    </tr>\n",
       "    <tr>\n",
       "      <th>1433918</th>\n",
       "      <td>887900.0</td>\n",
       "      <td>39.0</td>\n",
       "      <td>01/14/2019</td>\n",
       "      <td>301000</td>\n",
       "      <td>1270</td>\n",
       "      <td>98032</td>\n",
       "      <td>237.007874</td>\n",
       "      <td>2019-01-14</td>\n",
       "    </tr>\n",
       "    <tr>\n",
       "      <th>1434391</th>\n",
       "      <td>100.0</td>\n",
       "      <td>67.0</td>\n",
       "      <td>03/18/2019</td>\n",
       "      <td>358308</td>\n",
       "      <td>2240</td>\n",
       "      <td>98002</td>\n",
       "      <td>159.958929</td>\n",
       "      <td>2019-03-18</td>\n",
       "    </tr>\n",
       "    <tr>\n",
       "      <th>1434593</th>\n",
       "      <td>138730.0</td>\n",
       "      <td>80.0</td>\n",
       "      <td>01/18/2019</td>\n",
       "      <td>510000</td>\n",
       "      <td>1390</td>\n",
       "      <td>98011</td>\n",
       "      <td>366.906475</td>\n",
       "      <td>2019-01-18</td>\n",
       "    </tr>\n",
       "    <tr>\n",
       "      <th>1435029</th>\n",
       "      <td>712930.0</td>\n",
       "      <td>4285.0</td>\n",
       "      <td>02/08/2019</td>\n",
       "      <td>475000</td>\n",
       "      <td>2360</td>\n",
       "      <td>98118</td>\n",
       "      <td>201.271186</td>\n",
       "      <td>2019-02-08</td>\n",
       "    </tr>\n",
       "    <tr>\n",
       "      <th>1435864</th>\n",
       "      <td>541410.0</td>\n",
       "      <td>122.0</td>\n",
       "      <td>02/14/2019</td>\n",
       "      <td>485000</td>\n",
       "      <td>1050</td>\n",
       "      <td>98118</td>\n",
       "      <td>461.904762</td>\n",
       "      <td>2019-02-14</td>\n",
       "    </tr>\n",
       "    <tr>\n",
       "      <th>1435989</th>\n",
       "      <td>162040.0</td>\n",
       "      <td>180.0</td>\n",
       "      <td>02/07/2019</td>\n",
       "      <td>1099000</td>\n",
       "      <td>2660</td>\n",
       "      <td>98034</td>\n",
       "      <td>413.157895</td>\n",
       "      <td>2019-02-07</td>\n",
       "    </tr>\n",
       "    <tr>\n",
       "      <th>1437220</th>\n",
       "      <td>637300.0</td>\n",
       "      <td>167.0</td>\n",
       "      <td>01/25/2019</td>\n",
       "      <td>695000</td>\n",
       "      <td>1780</td>\n",
       "      <td>98116</td>\n",
       "      <td>390.449438</td>\n",
       "      <td>2019-01-25</td>\n",
       "    </tr>\n",
       "  </tbody>\n",
       "</table>\n",
       "</div>"
      ],
      "text/plain": [
       "            Major   Minor DocumentDate  SalePrice  SqFtTotLiving ZipCode  \\\n",
       "1432030  277660.0   116.0   03/18/2019     740000           1510   98117   \n",
       "1432844  357480.0   970.0   02/22/2019     595000           2300   98034   \n",
       "1433315   92304.0  9521.0   01/17/2019     562500           2450   98168   \n",
       "1433918  887900.0    39.0   01/14/2019     301000           1270   98032   \n",
       "1434391     100.0    67.0   03/18/2019     358308           2240   98002   \n",
       "1434593  138730.0    80.0   01/18/2019     510000           1390   98011   \n",
       "1435029  712930.0  4285.0   02/08/2019     475000           2360   98118   \n",
       "1435864  541410.0   122.0   02/14/2019     485000           1050   98118   \n",
       "1435989  162040.0   180.0   02/07/2019    1099000           2660   98034   \n",
       "1437220  637300.0   167.0   01/25/2019     695000           1780   98116   \n",
       "\n",
       "         PricePerSqFt DocumentDateUse  \n",
       "1432030    490.066225      2019-03-18  \n",
       "1432844    258.695652      2019-02-22  \n",
       "1433315    229.591837      2019-01-17  \n",
       "1433918    237.007874      2019-01-14  \n",
       "1434391    159.958929      2019-03-18  \n",
       "1434593    366.906475      2019-01-18  \n",
       "1435029    201.271186      2019-02-08  \n",
       "1435864    461.904762      2019-02-14  \n",
       "1435989    413.157895      2019-02-07  \n",
       "1437220    390.449438      2019-01-25  "
      ]
     },
     "execution_count": 257,
     "metadata": {},
     "output_type": "execute_result"
    }
   ],
   "source": [
    "sales_data_wm.tail(10)"
   ]
  },
  {
   "cell_type": "markdown",
   "metadata": {},
   "source": [
    "Seems to have converted OK. Let's double check that our dataset has shrunk signficantly."
   ]
  },
  {
   "cell_type": "code",
   "execution_count": 262,
   "metadata": {},
   "outputs": [
    {
     "data": {
      "text/plain": [
       "(3599, 8)"
      ]
     },
     "execution_count": 262,
     "metadata": {},
     "output_type": "execute_result"
    }
   ],
   "source": [
    "sales_data_wm.shape"
   ]
  },
  {
   "cell_type": "markdown",
   "metadata": {},
   "source": [
    "Yes! Only 3.6K rows :)   \n",
    "\n",
    "---\n",
    "---"
   ]
  },
  {
   "cell_type": "markdown",
   "metadata": {},
   "source": [
    "### 5. Subset the data to zip codes within the City of Seattle.\n",
    "\n",
    "You'll need to find a list of Seattle zip codes!"
   ]
  },
  {
   "cell_type": "markdown",
   "metadata": {},
   "source": [
    "---\n",
    "---\n",
    "Alex found a list of zip codes! will use below."
   ]
  },
  {
   "cell_type": "code",
   "execution_count": 270,
   "metadata": {},
   "outputs": [],
   "source": [
    "seattle_zips = pd.read_csv('Zip_Codes.csv')\n",
    "#seattle_zips.head()\n",
    "seattle_zips['ZIP'] = seattle_zips['ZIP'].apply(str)"
   ]
  },
  {
   "cell_type": "code",
   "execution_count": 271,
   "metadata": {},
   "outputs": [],
   "source": [
    "seattle_zips = pd.DataFrame(seattle_zips['ZIP'].unique(),columns=['zip'])"
   ]
  },
  {
   "cell_type": "code",
   "execution_count": 272,
   "metadata": {},
   "outputs": [
    {
     "name": "stdout",
     "output_type": "stream",
     "text": [
      "<class 'pandas.core.frame.DataFrame'>\n",
      "RangeIndex: 196 entries, 0 to 195\n",
      "Data columns (total 1 columns):\n",
      "zip    196 non-null object\n",
      "dtypes: object(1)\n",
      "memory usage: 1.6+ KB\n"
     ]
    }
   ],
   "source": [
    "seattle_zips.info()"
   ]
  },
  {
   "cell_type": "markdown",
   "metadata": {},
   "source": [
    "Visually comparing to the other sources, it seems that that this is way more zips than would expect? For example, the list Anna Slacked was ~30ish. I think *this* list might be all potential Seattle Zips, as in present and future?\n",
    "\n",
    "For simplicity I will just use the Anna's list =D.  Although, theoretically, it shouldn't matter? If the *extra* zips on first list were invalid, then they shouldn't join on actual data anyway."
   ]
  },
  {
   "cell_type": "code",
   "execution_count": 274,
   "metadata": {},
   "outputs": [
    {
     "data": {
      "text/html": [
       "<div>\n",
       "<style scoped>\n",
       "    .dataframe tbody tr th:only-of-type {\n",
       "        vertical-align: middle;\n",
       "    }\n",
       "\n",
       "    .dataframe tbody tr th {\n",
       "        vertical-align: top;\n",
       "    }\n",
       "\n",
       "    .dataframe thead th {\n",
       "        text-align: right;\n",
       "    }\n",
       "</style>\n",
       "<table border=\"1\" class=\"dataframe\">\n",
       "  <thead>\n",
       "    <tr style=\"text-align: right;\">\n",
       "      <th></th>\n",
       "      <th>zip</th>\n",
       "    </tr>\n",
       "  </thead>\n",
       "  <tbody>\n",
       "    <tr>\n",
       "      <th>0</th>\n",
       "      <td>98101</td>\n",
       "    </tr>\n",
       "    <tr>\n",
       "      <th>1</th>\n",
       "      <td>98102</td>\n",
       "    </tr>\n",
       "    <tr>\n",
       "      <th>2</th>\n",
       "      <td>98103</td>\n",
       "    </tr>\n",
       "    <tr>\n",
       "      <th>3</th>\n",
       "      <td>98104</td>\n",
       "    </tr>\n",
       "    <tr>\n",
       "      <th>4</th>\n",
       "      <td>98105</td>\n",
       "    </tr>\n",
       "  </tbody>\n",
       "</table>\n",
       "</div>"
      ],
      "text/plain": [
       "     zip\n",
       "0  98101\n",
       "1  98102\n",
       "2  98103\n",
       "3  98104\n",
       "4  98105"
      ]
     },
     "execution_count": 274,
     "metadata": {},
     "output_type": "execute_result"
    }
   ],
   "source": [
    "seattle_zips = [98101, 98102, 98103, 98104, 98105, 98106, 98107, 98108, 98109, 98112, \\\n",
    "                98115, 98116, 98117, 98118, 98119, 98121, 98122, 98125, 98126, 98133, \\\n",
    "                98134, 98136, 98144, 98146, 98154, 98164, 98174, 98177, 98178, 98195, 98199]\n",
    "\n",
    "# confirmed with Anna that this was her source:\n",
    "# http://www.city-data.com/zipmaps/Seattle-Washington.html\n",
    "\n",
    "#Convert to df, because I want to use merge. Because.\n",
    "seattle_zips = pd.DataFrame(seattle_zips,columns=['zip'])\n",
    "seattle_zips['zip'] = seattle_zips['zip'].apply(str)\n",
    "seattle_zips.head()"
   ]
  },
  {
   "cell_type": "code",
   "execution_count": 268,
   "metadata": {},
   "outputs": [
    {
     "name": "stdout",
     "output_type": "stream",
     "text": [
      "<class 'pandas.core.frame.DataFrame'>\n",
      "RangeIndex: 31 entries, 0 to 30\n",
      "Data columns (total 1 columns):\n",
      "zip    31 non-null object\n",
      "dtypes: object(1)\n",
      "memory usage: 328.0+ bytes\n"
     ]
    }
   ],
   "source": [
    "seattle_zips.info()"
   ]
  },
  {
   "cell_type": "markdown",
   "metadata": {},
   "source": [
    "Join it up!"
   ]
  },
  {
   "cell_type": "code",
   "execution_count": 277,
   "metadata": {
    "scrolled": true
   },
   "outputs": [],
   "source": [
    "sales_data_wm = pd.merge( sales_data_wm, seattle_zips\n",
    "                             ,how = 'inner'\n",
    "                             ,left_on = 'ZipCode'\n",
    "                             ,right_on = 'zip')"
   ]
  },
  {
   "cell_type": "code",
   "execution_count": 278,
   "metadata": {},
   "outputs": [
    {
     "name": "stdout",
     "output_type": "stream",
     "text": [
      "<class 'pandas.core.frame.DataFrame'>\n",
      "Int64Index: 1214 entries, 0 to 1213\n",
      "Data columns (total 9 columns):\n",
      "Major              1214 non-null float64\n",
      "Minor              1214 non-null float64\n",
      "DocumentDate       1214 non-null object\n",
      "SalePrice          1214 non-null int64\n",
      "SqFtTotLiving      1214 non-null int64\n",
      "ZipCode            1214 non-null object\n",
      "PricePerSqFt       1214 non-null float64\n",
      "DocumentDateUse    1214 non-null datetime64[ns]\n",
      "zip                1214 non-null object\n",
      "dtypes: datetime64[ns](1), float64(3), int64(2), object(3)\n",
      "memory usage: 94.8+ KB\n"
     ]
    }
   ],
   "source": [
    "sales_data_wm.info()"
   ]
  },
  {
   "cell_type": "code",
   "execution_count": 279,
   "metadata": {},
   "outputs": [
    {
     "data": {
      "text/html": [
       "<div>\n",
       "<style scoped>\n",
       "    .dataframe tbody tr th:only-of-type {\n",
       "        vertical-align: middle;\n",
       "    }\n",
       "\n",
       "    .dataframe tbody tr th {\n",
       "        vertical-align: top;\n",
       "    }\n",
       "\n",
       "    .dataframe thead th {\n",
       "        text-align: right;\n",
       "    }\n",
       "</style>\n",
       "<table border=\"1\" class=\"dataframe\">\n",
       "  <thead>\n",
       "    <tr style=\"text-align: right;\">\n",
       "      <th></th>\n",
       "      <th>Major</th>\n",
       "      <th>Minor</th>\n",
       "      <th>DocumentDate</th>\n",
       "      <th>SalePrice</th>\n",
       "      <th>SqFtTotLiving</th>\n",
       "      <th>ZipCode</th>\n",
       "      <th>PricePerSqFt</th>\n",
       "      <th>DocumentDateUse</th>\n",
       "      <th>zip</th>\n",
       "    </tr>\n",
       "  </thead>\n",
       "  <tbody>\n",
       "    <tr>\n",
       "      <th>0</th>\n",
       "      <td>367890.0</td>\n",
       "      <td>30.0</td>\n",
       "      <td>03/13/2019</td>\n",
       "      <td>923000</td>\n",
       "      <td>2550</td>\n",
       "      <td>98144</td>\n",
       "      <td>361.960784</td>\n",
       "      <td>2019-03-13</td>\n",
       "      <td>98144</td>\n",
       "    </tr>\n",
       "    <tr>\n",
       "      <th>1</th>\n",
       "      <td>327480.0</td>\n",
       "      <td>560.0</td>\n",
       "      <td>01/18/2019</td>\n",
       "      <td>108560</td>\n",
       "      <td>890</td>\n",
       "      <td>98144</td>\n",
       "      <td>121.977528</td>\n",
       "      <td>2019-01-18</td>\n",
       "      <td>98144</td>\n",
       "    </tr>\n",
       "    <tr>\n",
       "      <th>2</th>\n",
       "      <td>149830.0</td>\n",
       "      <td>2872.0</td>\n",
       "      <td>03/12/2019</td>\n",
       "      <td>615000</td>\n",
       "      <td>1190</td>\n",
       "      <td>98144</td>\n",
       "      <td>516.806723</td>\n",
       "      <td>2019-03-12</td>\n",
       "      <td>98144</td>\n",
       "    </tr>\n",
       "    <tr>\n",
       "      <th>3</th>\n",
       "      <td>128230.0</td>\n",
       "      <td>1465.0</td>\n",
       "      <td>02/06/2019</td>\n",
       "      <td>415000</td>\n",
       "      <td>2300</td>\n",
       "      <td>98144</td>\n",
       "      <td>180.434783</td>\n",
       "      <td>2019-02-06</td>\n",
       "      <td>98144</td>\n",
       "    </tr>\n",
       "    <tr>\n",
       "      <th>4</th>\n",
       "      <td>56700.0</td>\n",
       "      <td>295.0</td>\n",
       "      <td>03/19/2019</td>\n",
       "      <td>587250</td>\n",
       "      <td>1200</td>\n",
       "      <td>98144</td>\n",
       "      <td>489.375000</td>\n",
       "      <td>2019-03-19</td>\n",
       "      <td>98144</td>\n",
       "    </tr>\n",
       "  </tbody>\n",
       "</table>\n",
       "</div>"
      ],
      "text/plain": [
       "      Major   Minor DocumentDate  SalePrice  SqFtTotLiving ZipCode  \\\n",
       "0  367890.0    30.0   03/13/2019     923000           2550   98144   \n",
       "1  327480.0   560.0   01/18/2019     108560            890   98144   \n",
       "2  149830.0  2872.0   03/12/2019     615000           1190   98144   \n",
       "3  128230.0  1465.0   02/06/2019     415000           2300   98144   \n",
       "4   56700.0   295.0   03/19/2019     587250           1200   98144   \n",
       "\n",
       "   PricePerSqFt DocumentDateUse    zip  \n",
       "0    361.960784      2019-03-13  98144  \n",
       "1    121.977528      2019-01-18  98144  \n",
       "2    516.806723      2019-03-12  98144  \n",
       "3    180.434783      2019-02-06  98144  \n",
       "4    489.375000      2019-03-19  98144  "
      ]
     },
     "execution_count": 279,
     "metadata": {},
     "output_type": "execute_result"
    }
   ],
   "source": [
    "sales_data_wm.head()"
   ]
  },
  {
   "cell_type": "markdown",
   "metadata": {},
   "source": [
    "### 6. What is the mean price per square foot for a house sold in Seattle in 2019?\n",
    "\n",
    "Don't just type the answer. Type code that generates the answer as output!"
   ]
  },
  {
   "cell_type": "code",
   "execution_count": 286,
   "metadata": {},
   "outputs": [
    {
     "data": {
      "text/plain": [
       "'$468.59'"
      ]
     },
     "execution_count": 286,
     "metadata": {},
     "output_type": "execute_result"
    }
   ],
   "source": [
    "mean_price_sqft = sales_data_wm['SalePrice'].sum() / sales_data_wm['SqFtTotLiving'].sum()\n",
    "'${:.2f}'.format(mean_price_sqft)"
   ]
  },
  {
   "cell_type": "code",
   "execution_count": 287,
   "metadata": {},
   "outputs": [
    {
     "data": {
      "text/plain": [
       "'$508.34'"
      ]
     },
     "execution_count": 287,
     "metadata": {},
     "output_type": "execute_result"
    }
   ],
   "source": [
    "'${:.2f}'.format(sales_data_wm['PricePerSqFt'].mean()) #Because I'm curious"
   ]
  }
 ],
 "metadata": {
  "kernelspec": {
   "display_name": "Python 3",
   "language": "python",
   "name": "python3"
  },
  "language_info": {
   "codemirror_mode": {
    "name": "ipython",
    "version": 3
   },
   "file_extension": ".py",
   "mimetype": "text/x-python",
   "name": "python",
   "nbconvert_exporter": "python",
   "pygments_lexer": "ipython3",
   "version": "3.6.6"
  }
 },
 "nbformat": 4,
 "nbformat_minor": 2
}
